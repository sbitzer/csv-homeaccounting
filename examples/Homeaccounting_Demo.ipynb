{
 "cells": [
  {
   "cell_type": "code",
   "execution_count": 1,
   "metadata": {
    "collapsed": false
   },
   "outputs": [],
   "source": [
    "%matplotlib inline\n",
    "import homeaccounting as ha\n",
    "import pandas as pd\n",
    "import numpy as np\n",
    "import datetime as dt\n",
    "import os"
   ]
  },
  {
   "cell_type": "markdown",
   "metadata": {},
   "source": [
    "# Contents\n",
    "1. Basic usage of accounts\n",
    "2. Usage of depot container and alternative accounts (e.g., stocks)\n",
    "3. Handling loans"
   ]
  },
  {
   "cell_type": "markdown",
   "metadata": {},
   "source": [
    "# 1. Basic usage of accounts\n",
    "Demonstrates basic usage of automatic csv-based accounts.\n",
    "\n",
    "## Artificially create account with random transactions\n",
    "First, make some random transactions to play with. They will be stored in a csv-file as if I already made an account before. You shouldn't be needed to do anything of this, when using the package yourself later."
   ]
  },
  {
   "cell_type": "code",
   "execution_count": 2,
   "metadata": {
    "collapsed": false
   },
   "outputs": [],
   "source": [
    "# number of random transactions\n",
    "N = 100\n",
    "\n",
    "# make a random series of dates\n",
    "daydiff = np.random.exponential(scale=2, size=N).round()\n",
    "bdates = np.array([dt.date.today() - dt.timedelta(days=d) for d in daydiff.cumsum()])\n",
    "bdates = bdates[-1::-1]\n",
    "vdates = np.array([d + dt.timedelta(days=np.random.randint(3)) for d in bdates])\n",
    "\n",
    "agent = np.array(['agent %d' % i for i in range(N)])\n",
    "description = np.array(['description %d' % i for i in range(N)])\n",
    "types = np.array(['type %d' % i for i in range(N)])\n",
    "\n",
    "amounts = np.full(N, 1500, dtype=float)\n",
    "negind = np.random.rand(N) > N*2 / 30 / N\n",
    "amounts[negind] = -np.random.exponential(scale=100, size=negind.sum())\n",
    "amounts[0] += 2300\n",
    "\n",
    "transactions = pd.DataFrame(np.c_[bdates, vdates, agent, types, description, amounts], columns=('booking date', \n",
    "                            'value date', 'agent', 'type', 'description', 'amount'))\n",
    "\n",
    "filename = 'ing-diba'\n",
    "path = os.path.join('data', 'ing-diba')\n",
    "transactions.to_csv(os.path.join(path, filename)+'.csv')"
   ]
  },
  {
   "cell_type": "markdown",
   "metadata": {},
   "source": [
    "## Open existing ING-DiBa account\n",
    "I here open the artificially created ing_diba_giro account using the existing directory structure ('./data/ing-diba') with the previously used filename. \n",
    "\n",
    "The first time this is executed there should be a message saying that 6 transactions were added from two extra csv-files found in the account folder. These two files mimick the csv-format that you get when downloading transactions from the ING-DiBA website (at least in Germany). The two files contain 4 transactions of which 2 are common to both files. The common transactions will only be added once. Hence, there are only 6 added transactions.\n",
    "\n",
    "The print command will show the current balance of the account after all transactions are processed."
   ]
  },
  {
   "cell_type": "code",
   "execution_count": 3,
   "metadata": {
    "collapsed": false
   },
   "outputs": [
    {
     "name": "stdout",
     "output_type": "stream",
     "text": [
      "reading new csv-file: Umsatzanzeige_20161211.csv\n",
      "adding 4 new transactions\n",
      "\n",
      "reading new csv-file: Umsatzanzeige_20161217.csv\n",
      "adding 2 new transactions\n",
      "\n",
      "Added 6 new transactions.\n",
      "ing-diba:    16.94 EUR\n"
     ]
    }
   ],
   "source": [
    "acc = ha.accounts.ing_diba_giro(filename, path=path)\n",
    "print(acc)"
   ]
  },
  {
   "cell_type": "markdown",
   "metadata": {},
   "source": [
    "## Showing monthly summary\n",
    "You can check and compare the sum of incoming and outgoing transactions for each recorded month. You can select which months to show by giving a (sequence of) integer(s) where 0 is the current month and larger numbers select the corresponding previous months."
   ]
  },
  {
   "cell_type": "code",
   "execution_count": 4,
   "metadata": {
    "collapsed": false
   },
   "outputs": [
    {
     "data": {
      "text/html": [
       "<div>\n",
       "<table border=\"1\" class=\"dataframe\">\n",
       "  <thead>\n",
       "    <tr style=\"text-align: right;\">\n",
       "      <th></th>\n",
       "      <th>debit</th>\n",
       "      <th>credit</th>\n",
       "      <th>balance</th>\n",
       "    </tr>\n",
       "  </thead>\n",
       "  <tbody>\n",
       "    <tr>\n",
       "      <th>2017-03-31</th>\n",
       "      <td>0.0</td>\n",
       "      <td>-131.879097</td>\n",
       "      <td>-131.879097</td>\n",
       "    </tr>\n",
       "    <tr>\n",
       "      <th>2017-02-28</th>\n",
       "      <td>0.0</td>\n",
       "      <td>-1460.577928</td>\n",
       "      <td>-1460.577928</td>\n",
       "    </tr>\n",
       "    <tr>\n",
       "      <th>2017-01-31</th>\n",
       "      <td>0.0</td>\n",
       "      <td>-1579.483220</td>\n",
       "      <td>-1579.483220</td>\n",
       "    </tr>\n",
       "    <tr>\n",
       "      <th>2016-12-31</th>\n",
       "      <td>200.0</td>\n",
       "      <td>-1086.885077</td>\n",
       "      <td>-886.885077</td>\n",
       "    </tr>\n",
       "  </tbody>\n",
       "</table>\n",
       "</div>"
      ],
      "text/plain": [
       "            debit       credit      balance\n",
       "2017-03-31    0.0  -131.879097  -131.879097\n",
       "2017-02-28    0.0 -1460.577928 -1460.577928\n",
       "2017-01-31    0.0 -1579.483220 -1579.483220\n",
       "2016-12-31  200.0 -1086.885077  -886.885077"
      ]
     },
     "execution_count": 4,
     "metadata": {},
     "output_type": "execute_result"
    }
   ],
   "source": [
    "acc.get_monthly_balance(range(4))"
   ]
  },
  {
   "cell_type": "markdown",
   "metadata": {},
   "source": [
    "Alternatively, you can select months by a string of the form yyyy-mm:"
   ]
  },
  {
   "cell_type": "code",
   "execution_count": 5,
   "metadata": {
    "collapsed": false
   },
   "outputs": [
    {
     "data": {
      "text/html": [
       "<div>\n",
       "<table border=\"1\" class=\"dataframe\">\n",
       "  <thead>\n",
       "    <tr style=\"text-align: right;\">\n",
       "      <th></th>\n",
       "      <th>debit</th>\n",
       "      <th>credit</th>\n",
       "      <th>balance</th>\n",
       "    </tr>\n",
       "  </thead>\n",
       "  <tbody>\n",
       "    <tr>\n",
       "      <th>2016-11-30</th>\n",
       "      <td>1500.0</td>\n",
       "      <td>-1704.171436</td>\n",
       "      <td>-204.171436</td>\n",
       "    </tr>\n",
       "  </tbody>\n",
       "</table>\n",
       "</div>"
      ],
      "text/plain": [
       "             debit       credit     balance\n",
       "2016-11-30  1500.0 -1704.171436 -204.171436"
      ]
     },
     "execution_count": 5,
     "metadata": {},
     "output_type": "execute_result"
    }
   ],
   "source": [
    "acc.get_monthly_balance('2016-11')"
   ]
  },
  {
   "cell_type": "markdown",
   "metadata": {},
   "source": [
    "## Selecting transactions of a given month\n",
    "Having seen the summaries for some months you may want to see the corresponding transactions."
   ]
  },
  {
   "cell_type": "code",
   "execution_count": 6,
   "metadata": {
    "collapsed": false
   },
   "outputs": [
    {
     "data": {
      "text/html": [
       "<div>\n",
       "<table border=\"1\" class=\"dataframe\">\n",
       "  <thead>\n",
       "    <tr style=\"text-align: right;\">\n",
       "      <th></th>\n",
       "      <th>booking date</th>\n",
       "      <th>value date</th>\n",
       "      <th>agent</th>\n",
       "      <th>type</th>\n",
       "      <th>description</th>\n",
       "      <th>amount</th>\n",
       "    </tr>\n",
       "  </thead>\n",
       "  <tbody>\n",
       "    <tr>\n",
       "      <th>32</th>\n",
       "      <td>2016-09-30</td>\n",
       "      <td>2016-10-01</td>\n",
       "      <td>agent 32</td>\n",
       "      <td>type 32</td>\n",
       "      <td>description 32</td>\n",
       "      <td>-112.621276</td>\n",
       "    </tr>\n",
       "    <tr>\n",
       "      <th>33</th>\n",
       "      <td>2016-10-01</td>\n",
       "      <td>2016-10-02</td>\n",
       "      <td>agent 33</td>\n",
       "      <td>type 33</td>\n",
       "      <td>description 33</td>\n",
       "      <td>-57.988233</td>\n",
       "    </tr>\n",
       "    <tr>\n",
       "      <th>35</th>\n",
       "      <td>2016-10-02</td>\n",
       "      <td>2016-10-02</td>\n",
       "      <td>agent 35</td>\n",
       "      <td>type 35</td>\n",
       "      <td>description 35</td>\n",
       "      <td>-140.736205</td>\n",
       "    </tr>\n",
       "    <tr>\n",
       "      <th>34</th>\n",
       "      <td>2016-10-02</td>\n",
       "      <td>2016-10-03</td>\n",
       "      <td>agent 34</td>\n",
       "      <td>type 34</td>\n",
       "      <td>description 34</td>\n",
       "      <td>-276.900642</td>\n",
       "    </tr>\n",
       "    <tr>\n",
       "      <th>36</th>\n",
       "      <td>2016-10-09</td>\n",
       "      <td>2016-10-10</td>\n",
       "      <td>agent 36</td>\n",
       "      <td>type 36</td>\n",
       "      <td>description 36</td>\n",
       "      <td>-64.697525</td>\n",
       "    </tr>\n",
       "    <tr>\n",
       "      <th>37</th>\n",
       "      <td>2016-10-09</td>\n",
       "      <td>2016-10-10</td>\n",
       "      <td>agent 37</td>\n",
       "      <td>type 37</td>\n",
       "      <td>description 37</td>\n",
       "      <td>-112.593679</td>\n",
       "    </tr>\n",
       "    <tr>\n",
       "      <th>38</th>\n",
       "      <td>2016-10-10</td>\n",
       "      <td>2016-10-11</td>\n",
       "      <td>agent 38</td>\n",
       "      <td>type 38</td>\n",
       "      <td>description 38</td>\n",
       "      <td>-66.535359</td>\n",
       "    </tr>\n",
       "    <tr>\n",
       "      <th>39</th>\n",
       "      <td>2016-10-15</td>\n",
       "      <td>2016-10-17</td>\n",
       "      <td>agent 39</td>\n",
       "      <td>type 39</td>\n",
       "      <td>description 39</td>\n",
       "      <td>-28.215812</td>\n",
       "    </tr>\n",
       "    <tr>\n",
       "      <th>40</th>\n",
       "      <td>2016-10-17</td>\n",
       "      <td>2016-10-19</td>\n",
       "      <td>agent 40</td>\n",
       "      <td>type 40</td>\n",
       "      <td>description 40</td>\n",
       "      <td>-1.912933</td>\n",
       "    </tr>\n",
       "    <tr>\n",
       "      <th>41</th>\n",
       "      <td>2016-10-19</td>\n",
       "      <td>2016-10-20</td>\n",
       "      <td>agent 41</td>\n",
       "      <td>type 41</td>\n",
       "      <td>description 41</td>\n",
       "      <td>-109.311725</td>\n",
       "    </tr>\n",
       "    <tr>\n",
       "      <th>42</th>\n",
       "      <td>2016-10-20</td>\n",
       "      <td>2016-10-20</td>\n",
       "      <td>agent 42</td>\n",
       "      <td>type 42</td>\n",
       "      <td>description 42</td>\n",
       "      <td>-125.341645</td>\n",
       "    </tr>\n",
       "    <tr>\n",
       "      <th>43</th>\n",
       "      <td>2016-10-21</td>\n",
       "      <td>2016-10-21</td>\n",
       "      <td>agent 43</td>\n",
       "      <td>type 43</td>\n",
       "      <td>description 43</td>\n",
       "      <td>1500.000000</td>\n",
       "    </tr>\n",
       "    <tr>\n",
       "      <th>44</th>\n",
       "      <td>2016-10-22</td>\n",
       "      <td>2016-10-23</td>\n",
       "      <td>agent 44</td>\n",
       "      <td>type 44</td>\n",
       "      <td>description 44</td>\n",
       "      <td>-23.291724</td>\n",
       "    </tr>\n",
       "    <tr>\n",
       "      <th>46</th>\n",
       "      <td>2016-10-25</td>\n",
       "      <td>2016-10-25</td>\n",
       "      <td>agent 46</td>\n",
       "      <td>type 46</td>\n",
       "      <td>description 46</td>\n",
       "      <td>-63.705027</td>\n",
       "    </tr>\n",
       "    <tr>\n",
       "      <th>45</th>\n",
       "      <td>2016-10-24</td>\n",
       "      <td>2016-10-26</td>\n",
       "      <td>agent 45</td>\n",
       "      <td>type 45</td>\n",
       "      <td>description 45</td>\n",
       "      <td>1500.000000</td>\n",
       "    </tr>\n",
       "  </tbody>\n",
       "</table>\n",
       "</div>"
      ],
      "text/plain": [
       "   booking date value date     agent     type     description       amount\n",
       "32   2016-09-30 2016-10-01  agent 32  type 32  description 32  -112.621276\n",
       "33   2016-10-01 2016-10-02  agent 33  type 33  description 33   -57.988233\n",
       "35   2016-10-02 2016-10-02  agent 35  type 35  description 35  -140.736205\n",
       "34   2016-10-02 2016-10-03  agent 34  type 34  description 34  -276.900642\n",
       "36   2016-10-09 2016-10-10  agent 36  type 36  description 36   -64.697525\n",
       "37   2016-10-09 2016-10-10  agent 37  type 37  description 37  -112.593679\n",
       "38   2016-10-10 2016-10-11  agent 38  type 38  description 38   -66.535359\n",
       "39   2016-10-15 2016-10-17  agent 39  type 39  description 39   -28.215812\n",
       "40   2016-10-17 2016-10-19  agent 40  type 40  description 40    -1.912933\n",
       "41   2016-10-19 2016-10-20  agent 41  type 41  description 41  -109.311725\n",
       "42   2016-10-20 2016-10-20  agent 42  type 42  description 42  -125.341645\n",
       "43   2016-10-21 2016-10-21  agent 43  type 43  description 43  1500.000000\n",
       "44   2016-10-22 2016-10-23  agent 44  type 44  description 44   -23.291724\n",
       "46   2016-10-25 2016-10-25  agent 46  type 46  description 46   -63.705027\n",
       "45   2016-10-24 2016-10-26  agent 45  type 45  description 45  1500.000000"
      ]
     },
     "execution_count": 6,
     "metadata": {},
     "output_type": "execute_result"
    }
   ],
   "source": [
    "tr, _ = acc.get_month('2016-10')\n",
    "tr"
   ]
  },
  {
   "cell_type": "markdown",
   "metadata": {},
   "source": [
    "## Selecting most recent transactions\n",
    "You can get the N most recent transactions."
   ]
  },
  {
   "cell_type": "code",
   "execution_count": 7,
   "metadata": {
    "collapsed": false
   },
   "outputs": [
    {
     "data": {
      "text/html": [
       "<div>\n",
       "<table border=\"1\" class=\"dataframe\">\n",
       "  <thead>\n",
       "    <tr style=\"text-align: right;\">\n",
       "      <th></th>\n",
       "      <th>booking date</th>\n",
       "      <th>value date</th>\n",
       "      <th>agent</th>\n",
       "      <th>type</th>\n",
       "      <th>description</th>\n",
       "      <th>amount</th>\n",
       "    </tr>\n",
       "  </thead>\n",
       "  <tbody>\n",
       "    <tr>\n",
       "      <th>99</th>\n",
       "      <td>2017-02-28</td>\n",
       "      <td>2017-03-01</td>\n",
       "      <td>agent 99</td>\n",
       "      <td>type 99</td>\n",
       "      <td>description 99</td>\n",
       "      <td>-131.879097</td>\n",
       "    </tr>\n",
       "    <tr>\n",
       "      <th>98</th>\n",
       "      <td>2017-02-27</td>\n",
       "      <td>2017-02-28</td>\n",
       "      <td>agent 98</td>\n",
       "      <td>type 98</td>\n",
       "      <td>description 98</td>\n",
       "      <td>-83.793915</td>\n",
       "    </tr>\n",
       "    <tr>\n",
       "      <th>97</th>\n",
       "      <td>2017-02-21</td>\n",
       "      <td>2017-02-22</td>\n",
       "      <td>agent 97</td>\n",
       "      <td>type 97</td>\n",
       "      <td>description 97</td>\n",
       "      <td>-83.404415</td>\n",
       "    </tr>\n",
       "    <tr>\n",
       "      <th>96</th>\n",
       "      <td>2017-02-17</td>\n",
       "      <td>2017-02-18</td>\n",
       "      <td>agent 96</td>\n",
       "      <td>type 96</td>\n",
       "      <td>description 96</td>\n",
       "      <td>-19.413013</td>\n",
       "    </tr>\n",
       "    <tr>\n",
       "      <th>95</th>\n",
       "      <td>2017-02-15</td>\n",
       "      <td>2017-02-15</td>\n",
       "      <td>agent 95</td>\n",
       "      <td>type 95</td>\n",
       "      <td>description 95</td>\n",
       "      <td>-4.334968</td>\n",
       "    </tr>\n",
       "    <tr>\n",
       "      <th>94</th>\n",
       "      <td>2017-02-13</td>\n",
       "      <td>2017-02-13</td>\n",
       "      <td>agent 94</td>\n",
       "      <td>type 94</td>\n",
       "      <td>description 94</td>\n",
       "      <td>-265.338688</td>\n",
       "    </tr>\n",
       "    <tr>\n",
       "      <th>93</th>\n",
       "      <td>2017-02-08</td>\n",
       "      <td>2017-02-09</td>\n",
       "      <td>agent 93</td>\n",
       "      <td>type 93</td>\n",
       "      <td>description 93</td>\n",
       "      <td>-95.250635</td>\n",
       "    </tr>\n",
       "    <tr>\n",
       "      <th>92</th>\n",
       "      <td>2017-02-06</td>\n",
       "      <td>2017-02-08</td>\n",
       "      <td>agent 92</td>\n",
       "      <td>type 92</td>\n",
       "      <td>description 92</td>\n",
       "      <td>-198.429557</td>\n",
       "    </tr>\n",
       "    <tr>\n",
       "      <th>90</th>\n",
       "      <td>2017-02-04</td>\n",
       "      <td>2017-02-06</td>\n",
       "      <td>agent 90</td>\n",
       "      <td>type 90</td>\n",
       "      <td>description 90</td>\n",
       "      <td>-561.677935</td>\n",
       "    </tr>\n",
       "    <tr>\n",
       "      <th>91</th>\n",
       "      <td>2017-02-05</td>\n",
       "      <td>2017-02-06</td>\n",
       "      <td>agent 91</td>\n",
       "      <td>type 91</td>\n",
       "      <td>description 91</td>\n",
       "      <td>-58.569161</td>\n",
       "    </tr>\n",
       "  </tbody>\n",
       "</table>\n",
       "</div>"
      ],
      "text/plain": [
       "   booking date value date     agent     type     description      amount\n",
       "99   2017-02-28 2017-03-01  agent 99  type 99  description 99 -131.879097\n",
       "98   2017-02-27 2017-02-28  agent 98  type 98  description 98  -83.793915\n",
       "97   2017-02-21 2017-02-22  agent 97  type 97  description 97  -83.404415\n",
       "96   2017-02-17 2017-02-18  agent 96  type 96  description 96  -19.413013\n",
       "95   2017-02-15 2017-02-15  agent 95  type 95  description 95   -4.334968\n",
       "94   2017-02-13 2017-02-13  agent 94  type 94  description 94 -265.338688\n",
       "93   2017-02-08 2017-02-09  agent 93  type 93  description 93  -95.250635\n",
       "92   2017-02-06 2017-02-08  agent 92  type 92  description 92 -198.429557\n",
       "90   2017-02-04 2017-02-06  agent 90  type 90  description 90 -561.677935\n",
       "91   2017-02-05 2017-02-06  agent 91  type 91  description 91  -58.569161"
      ]
     },
     "execution_count": 7,
     "metadata": {},
     "output_type": "execute_result"
    }
   ],
   "source": [
    "acc.get_last(10)"
   ]
  },
  {
   "cell_type": "markdown",
   "metadata": {},
   "source": [
    "## Finding transactions\n",
    "You can look for specific transactions based on equality criteria for the different fields of a transaction. For example, for the amount:"
   ]
  },
  {
   "cell_type": "code",
   "execution_count": 8,
   "metadata": {
    "collapsed": false
   },
   "outputs": [
    {
     "data": {
      "text/html": [
       "<div>\n",
       "<table border=\"1\" class=\"dataframe\">\n",
       "  <thead>\n",
       "    <tr style=\"text-align: right;\">\n",
       "      <th></th>\n",
       "      <th>booking date</th>\n",
       "      <th>value date</th>\n",
       "      <th>agent</th>\n",
       "      <th>type</th>\n",
       "      <th>description</th>\n",
       "      <th>amount</th>\n",
       "    </tr>\n",
       "  </thead>\n",
       "  <tbody>\n",
       "    <tr>\n",
       "      <th>19</th>\n",
       "      <td>2016-08-20</td>\n",
       "      <td>2016-08-22</td>\n",
       "      <td>agent 19</td>\n",
       "      <td>type 19</td>\n",
       "      <td>description 19</td>\n",
       "      <td>1500.0</td>\n",
       "    </tr>\n",
       "    <tr>\n",
       "      <th>25</th>\n",
       "      <td>2016-09-04</td>\n",
       "      <td>2016-09-04</td>\n",
       "      <td>agent 25</td>\n",
       "      <td>type 25</td>\n",
       "      <td>description 25</td>\n",
       "      <td>1500.0</td>\n",
       "    </tr>\n",
       "    <tr>\n",
       "      <th>43</th>\n",
       "      <td>2016-10-21</td>\n",
       "      <td>2016-10-21</td>\n",
       "      <td>agent 43</td>\n",
       "      <td>type 43</td>\n",
       "      <td>description 43</td>\n",
       "      <td>1500.0</td>\n",
       "    </tr>\n",
       "    <tr>\n",
       "      <th>45</th>\n",
       "      <td>2016-10-24</td>\n",
       "      <td>2016-10-26</td>\n",
       "      <td>agent 45</td>\n",
       "      <td>type 45</td>\n",
       "      <td>description 45</td>\n",
       "      <td>1500.0</td>\n",
       "    </tr>\n",
       "    <tr>\n",
       "      <th>53</th>\n",
       "      <td>2016-11-14</td>\n",
       "      <td>2016-11-15</td>\n",
       "      <td>agent 53</td>\n",
       "      <td>type 53</td>\n",
       "      <td>description 53</td>\n",
       "      <td>1500.0</td>\n",
       "    </tr>\n",
       "  </tbody>\n",
       "</table>\n",
       "</div>"
      ],
      "text/plain": [
       "   booking date value date     agent     type     description  amount\n",
       "19   2016-08-20 2016-08-22  agent 19  type 19  description 19  1500.0\n",
       "25   2016-09-04 2016-09-04  agent 25  type 25  description 25  1500.0\n",
       "43   2016-10-21 2016-10-21  agent 43  type 43  description 43  1500.0\n",
       "45   2016-10-24 2016-10-26  agent 45  type 45  description 45  1500.0\n",
       "53   2016-11-14 2016-11-15  agent 53  type 53  description 53  1500.0"
      ]
     },
     "execution_count": 8,
     "metadata": {},
     "output_type": "execute_result"
    }
   ],
   "source": [
    "acc.find(amount=1500)"
   ]
  },
  {
   "cell_type": "markdown",
   "metadata": {},
   "source": [
    "for the dates:"
   ]
  },
  {
   "cell_type": "code",
   "execution_count": 9,
   "metadata": {
    "collapsed": false
   },
   "outputs": [
    {
     "data": {
      "text/html": [
       "<div>\n",
       "<table border=\"1\" class=\"dataframe\">\n",
       "  <thead>\n",
       "    <tr style=\"text-align: right;\">\n",
       "      <th></th>\n",
       "      <th>booking date</th>\n",
       "      <th>value date</th>\n",
       "      <th>agent</th>\n",
       "      <th>type</th>\n",
       "      <th>description</th>\n",
       "      <th>amount</th>\n",
       "    </tr>\n",
       "  </thead>\n",
       "  <tbody>\n",
       "  </tbody>\n",
       "</table>\n",
       "</div>"
      ],
      "text/plain": [
       "Empty DataFrame\n",
       "Columns: [booking date, value date, agent, type, description, amount]\n",
       "Index: []"
      ]
     },
     "execution_count": 9,
     "metadata": {},
     "output_type": "execute_result"
    }
   ],
   "source": [
    "acc.find(vdate='20161103')"
   ]
  },
  {
   "cell_type": "code",
   "execution_count": 10,
   "metadata": {
    "collapsed": false
   },
   "outputs": [
    {
     "data": {
      "text/html": [
       "<div>\n",
       "<table border=\"1\" class=\"dataframe\">\n",
       "  <thead>\n",
       "    <tr style=\"text-align: right;\">\n",
       "      <th></th>\n",
       "      <th>booking date</th>\n",
       "      <th>value date</th>\n",
       "      <th>agent</th>\n",
       "      <th>type</th>\n",
       "      <th>description</th>\n",
       "      <th>amount</th>\n",
       "    </tr>\n",
       "  </thead>\n",
       "  <tbody>\n",
       "    <tr>\n",
       "      <th>19</th>\n",
       "      <td>2016-08-20</td>\n",
       "      <td>2016-08-22</td>\n",
       "      <td>agent 19</td>\n",
       "      <td>type 19</td>\n",
       "      <td>description 19</td>\n",
       "      <td>1500.0</td>\n",
       "    </tr>\n",
       "  </tbody>\n",
       "</table>\n",
       "</div>"
      ],
      "text/plain": [
       "   booking date value date     agent     type     description  amount\n",
       "19   2016-08-20 2016-08-22  agent 19  type 19  description 19  1500.0"
      ]
     },
     "execution_count": 10,
     "metadata": {},
     "output_type": "execute_result"
    }
   ],
   "source": [
    "acc.find(bdate='20.08.2016')"
   ]
  },
  {
   "cell_type": "markdown",
   "metadata": {},
   "source": [
    "For the string fields the input is interpreted as a search pattern. All transactions which contain the given pattern in the selected field will be returned:"
   ]
  },
  {
   "cell_type": "code",
   "execution_count": 11,
   "metadata": {
    "collapsed": false
   },
   "outputs": [
    {
     "data": {
      "text/html": [
       "<div>\n",
       "<table border=\"1\" class=\"dataframe\">\n",
       "  <thead>\n",
       "    <tr style=\"text-align: right;\">\n",
       "      <th></th>\n",
       "      <th>booking date</th>\n",
       "      <th>value date</th>\n",
       "      <th>agent</th>\n",
       "      <th>type</th>\n",
       "      <th>description</th>\n",
       "      <th>amount</th>\n",
       "    </tr>\n",
       "  </thead>\n",
       "  <tbody>\n",
       "    <tr>\n",
       "      <th>4</th>\n",
       "      <td>2016-07-23</td>\n",
       "      <td>2016-07-25</td>\n",
       "      <td>agent 4</td>\n",
       "      <td>type 4</td>\n",
       "      <td>description 4</td>\n",
       "      <td>-74.808943</td>\n",
       "    </tr>\n",
       "    <tr>\n",
       "      <th>40</th>\n",
       "      <td>2016-10-17</td>\n",
       "      <td>2016-10-19</td>\n",
       "      <td>agent 40</td>\n",
       "      <td>type 40</td>\n",
       "      <td>description 40</td>\n",
       "      <td>-1.912933</td>\n",
       "    </tr>\n",
       "    <tr>\n",
       "      <th>41</th>\n",
       "      <td>2016-10-19</td>\n",
       "      <td>2016-10-20</td>\n",
       "      <td>agent 41</td>\n",
       "      <td>type 41</td>\n",
       "      <td>description 41</td>\n",
       "      <td>-109.311725</td>\n",
       "    </tr>\n",
       "    <tr>\n",
       "      <th>42</th>\n",
       "      <td>2016-10-20</td>\n",
       "      <td>2016-10-20</td>\n",
       "      <td>agent 42</td>\n",
       "      <td>type 42</td>\n",
       "      <td>description 42</td>\n",
       "      <td>-125.341645</td>\n",
       "    </tr>\n",
       "    <tr>\n",
       "      <th>43</th>\n",
       "      <td>2016-10-21</td>\n",
       "      <td>2016-10-21</td>\n",
       "      <td>agent 43</td>\n",
       "      <td>type 43</td>\n",
       "      <td>description 43</td>\n",
       "      <td>1500.000000</td>\n",
       "    </tr>\n",
       "    <tr>\n",
       "      <th>44</th>\n",
       "      <td>2016-10-22</td>\n",
       "      <td>2016-10-23</td>\n",
       "      <td>agent 44</td>\n",
       "      <td>type 44</td>\n",
       "      <td>description 44</td>\n",
       "      <td>-23.291724</td>\n",
       "    </tr>\n",
       "    <tr>\n",
       "      <th>45</th>\n",
       "      <td>2016-10-24</td>\n",
       "      <td>2016-10-26</td>\n",
       "      <td>agent 45</td>\n",
       "      <td>type 45</td>\n",
       "      <td>description 45</td>\n",
       "      <td>1500.000000</td>\n",
       "    </tr>\n",
       "    <tr>\n",
       "      <th>46</th>\n",
       "      <td>2016-10-25</td>\n",
       "      <td>2016-10-25</td>\n",
       "      <td>agent 46</td>\n",
       "      <td>type 46</td>\n",
       "      <td>description 46</td>\n",
       "      <td>-63.705027</td>\n",
       "    </tr>\n",
       "    <tr>\n",
       "      <th>47</th>\n",
       "      <td>2016-11-02</td>\n",
       "      <td>2016-11-02</td>\n",
       "      <td>agent 47</td>\n",
       "      <td>type 47</td>\n",
       "      <td>description 47</td>\n",
       "      <td>-102.396399</td>\n",
       "    </tr>\n",
       "    <tr>\n",
       "      <th>48</th>\n",
       "      <td>2016-11-04</td>\n",
       "      <td>2016-11-04</td>\n",
       "      <td>agent 48</td>\n",
       "      <td>type 48</td>\n",
       "      <td>description 48</td>\n",
       "      <td>-78.294805</td>\n",
       "    </tr>\n",
       "    <tr>\n",
       "      <th>49</th>\n",
       "      <td>2016-11-04</td>\n",
       "      <td>2016-11-06</td>\n",
       "      <td>agent 49</td>\n",
       "      <td>type 49</td>\n",
       "      <td>description 49</td>\n",
       "      <td>-40.162030</td>\n",
       "    </tr>\n",
       "  </tbody>\n",
       "</table>\n",
       "</div>"
      ],
      "text/plain": [
       "   booking date value date     agent     type     description       amount\n",
       "4    2016-07-23 2016-07-25   agent 4   type 4   description 4   -74.808943\n",
       "40   2016-10-17 2016-10-19  agent 40  type 40  description 40    -1.912933\n",
       "41   2016-10-19 2016-10-20  agent 41  type 41  description 41  -109.311725\n",
       "42   2016-10-20 2016-10-20  agent 42  type 42  description 42  -125.341645\n",
       "43   2016-10-21 2016-10-21  agent 43  type 43  description 43  1500.000000\n",
       "44   2016-10-22 2016-10-23  agent 44  type 44  description 44   -23.291724\n",
       "45   2016-10-24 2016-10-26  agent 45  type 45  description 45  1500.000000\n",
       "46   2016-10-25 2016-10-25  agent 46  type 46  description 46   -63.705027\n",
       "47   2016-11-02 2016-11-02  agent 47  type 47  description 47  -102.396399\n",
       "48   2016-11-04 2016-11-04  agent 48  type 48  description 48   -78.294805\n",
       "49   2016-11-04 2016-11-06  agent 49  type 49  description 49   -40.162030"
      ]
     },
     "execution_count": 11,
     "metadata": {},
     "output_type": "execute_result"
    }
   ],
   "source": [
    "acc.find(agent='agent 4')"
   ]
  },
  {
   "cell_type": "code",
   "execution_count": 12,
   "metadata": {
    "collapsed": false
   },
   "outputs": [
    {
     "data": {
      "text/html": [
       "<div>\n",
       "<table border=\"1\" class=\"dataframe\">\n",
       "  <thead>\n",
       "    <tr style=\"text-align: right;\">\n",
       "      <th></th>\n",
       "      <th>booking date</th>\n",
       "      <th>value date</th>\n",
       "      <th>agent</th>\n",
       "      <th>type</th>\n",
       "      <th>description</th>\n",
       "      <th>amount</th>\n",
       "    </tr>\n",
       "  </thead>\n",
       "  <tbody>\n",
       "    <tr>\n",
       "      <th>46</th>\n",
       "      <td>2016-10-25</td>\n",
       "      <td>2016-10-25</td>\n",
       "      <td>agent 46</td>\n",
       "      <td>type 46</td>\n",
       "      <td>description 46</td>\n",
       "      <td>-63.705027</td>\n",
       "    </tr>\n",
       "  </tbody>\n",
       "</table>\n",
       "</div>"
      ],
      "text/plain": [
       "   booking date value date     agent     type     description     amount\n",
       "46   2016-10-25 2016-10-25  agent 46  type 46  description 46 -63.705027"
      ]
     },
     "execution_count": 12,
     "metadata": {},
     "output_type": "execute_result"
    }
   ],
   "source": [
    "acc.find(t_type='46')"
   ]
  },
  {
   "cell_type": "markdown",
   "metadata": {},
   "source": [
    "By default, search is case-insensitive, but you can change that:"
   ]
  },
  {
   "cell_type": "code",
   "execution_count": 13,
   "metadata": {
    "collapsed": false
   },
   "outputs": [
    {
     "data": {
      "text/html": [
       "<div>\n",
       "<table border=\"1\" class=\"dataframe\">\n",
       "  <thead>\n",
       "    <tr style=\"text-align: right;\">\n",
       "      <th></th>\n",
       "      <th>booking date</th>\n",
       "      <th>value date</th>\n",
       "      <th>agent</th>\n",
       "      <th>type</th>\n",
       "      <th>description</th>\n",
       "      <th>amount</th>\n",
       "    </tr>\n",
       "  </thead>\n",
       "  <tbody>\n",
       "    <tr>\n",
       "      <th>12</th>\n",
       "      <td>2016-08-07</td>\n",
       "      <td>2016-08-08</td>\n",
       "      <td>agent 12</td>\n",
       "      <td>type 12</td>\n",
       "      <td>description 12</td>\n",
       "      <td>-65.636376</td>\n",
       "    </tr>\n",
       "    <tr>\n",
       "      <th>105</th>\n",
       "      <td>2016-12-12</td>\n",
       "      <td>2016-12-12</td>\n",
       "      <td>agent 78</td>\n",
       "      <td>type 3</td>\n",
       "      <td>description 123</td>\n",
       "      <td>-150.000000</td>\n",
       "    </tr>\n",
       "  </tbody>\n",
       "</table>\n",
       "</div>"
      ],
      "text/plain": [
       "    booking date value date     agent     type      description      amount\n",
       "12    2016-08-07 2016-08-08  agent 12  type 12   description 12  -65.636376\n",
       "105   2016-12-12 2016-12-12  agent 78   type 3  description 123 -150.000000"
      ]
     },
     "execution_count": 13,
     "metadata": {},
     "output_type": "execute_result"
    }
   ],
   "source": [
    "acc.find(description='DeScription 12')"
   ]
  },
  {
   "cell_type": "code",
   "execution_count": 14,
   "metadata": {
    "collapsed": false
   },
   "outputs": [
    {
     "data": {
      "text/html": [
       "<div>\n",
       "<table border=\"1\" class=\"dataframe\">\n",
       "  <thead>\n",
       "    <tr style=\"text-align: right;\">\n",
       "      <th></th>\n",
       "      <th>booking date</th>\n",
       "      <th>value date</th>\n",
       "      <th>agent</th>\n",
       "      <th>type</th>\n",
       "      <th>description</th>\n",
       "      <th>amount</th>\n",
       "    </tr>\n",
       "  </thead>\n",
       "  <tbody>\n",
       "  </tbody>\n",
       "</table>\n",
       "</div>"
      ],
      "text/plain": [
       "Empty DataFrame\n",
       "Columns: [booking date, value date, agent, type, description, amount]\n",
       "Index: []"
      ]
     },
     "execution_count": 14,
     "metadata": {},
     "output_type": "execute_result"
    }
   ],
   "source": [
    "acc.find(description='DeScription 12', case=True)"
   ]
  },
  {
   "cell_type": "markdown",
   "metadata": {},
   "source": [
    "You can also combine search across fields:"
   ]
  },
  {
   "cell_type": "code",
   "execution_count": 15,
   "metadata": {
    "collapsed": false
   },
   "outputs": [
    {
     "data": {
      "text/html": [
       "<div>\n",
       "<table border=\"1\" class=\"dataframe\">\n",
       "  <thead>\n",
       "    <tr style=\"text-align: right;\">\n",
       "      <th></th>\n",
       "      <th>booking date</th>\n",
       "      <th>value date</th>\n",
       "      <th>agent</th>\n",
       "      <th>type</th>\n",
       "      <th>description</th>\n",
       "      <th>amount</th>\n",
       "    </tr>\n",
       "  </thead>\n",
       "  <tbody>\n",
       "  </tbody>\n",
       "</table>\n",
       "</div>"
      ],
      "text/plain": [
       "Empty DataFrame\n",
       "Columns: [booking date, value date, agent, type, description, amount]\n",
       "Index: []"
      ]
     },
     "execution_count": 15,
     "metadata": {},
     "output_type": "execute_result"
    }
   ],
   "source": [
    "acc.find(description='12', amount=1500)"
   ]
  },
  {
   "cell_type": "markdown",
   "metadata": {},
   "source": [
    "## Visualising the transaction history\n",
    "You can plot three kinds of information. The balance of the account over time:"
   ]
  },
  {
   "cell_type": "code",
   "execution_count": 16,
   "metadata": {
    "collapsed": false
   },
   "outputs": [
    {
     "data": {
      "image/png": "[encoded data removed]",
      "text/plain": [
       "<matplotlib.figure.Figure at 0x7f56803f6d68>"
      ]
     },
     "metadata": {},
     "output_type": "display_data"
    }
   ],
   "source": [
    "fig = acc.plot_history()"
   ]
  },
  {
   "cell_type": "markdown",
   "metadata": {},
   "source": [
    "individual transaction amounts over time:"
   ]
  },
  {
   "cell_type": "code",
   "execution_count": 17,
   "metadata": {
    "collapsed": false
   },
   "outputs": [
    {
     "data": {
      "image/png": "[encoded data removed]",
      "text/plain": [
       "<matplotlib.figure.Figure at 0x7f567defed30>"
      ]
     },
     "metadata": {},
     "output_type": "display_data"
    }
   ],
   "source": [
    "fig = acc.plot_history(what='amount')"
   ]
  },
  {
   "cell_type": "markdown",
   "metadata": {},
   "source": [
    "or the cumulative sum of transaction amounts within a specified period (equals to balance when the time period includes all transactions):"
   ]
  },
  {
   "cell_type": "code",
   "execution_count": 18,
   "metadata": {
    "collapsed": false
   },
   "outputs": [
    {
     "data": {
      "image/png": "[encoded data removed]",
      "text/plain": [
       "<matplotlib.figure.Figure at 0x7f567d96b940>"
      ]
     },
     "metadata": {},
     "output_type": "display_data"
    }
   ],
   "source": [
    "fig = acc.plot_history(startdate='01.08.2016', enddate='23.09.2016', what='cumsum')"
   ]
  },
  {
   "cell_type": "markdown",
   "metadata": {},
   "source": [
    "# 2. Usage of depot container and alternative accounts\n",
    "A depot is a collection of accounts. As accounts, depots are associated with a currency, but can hold accounts associated with different currencies. In overviews, the depot tries to convert the assets held in the different accounts into the currency of the depot."
   ]
  },
  {
   "cell_type": "markdown",
   "metadata": {},
   "source": [
    "## Creating a depot and adding accounts"
   ]
  },
  {
   "cell_type": "code",
   "execution_count": 19,
   "metadata": {
    "collapsed": false
   },
   "outputs": [
    {
     "data": {
      "text/html": [
       "<div>\n",
       "<table border=\"1\" class=\"dataframe\">\n",
       "  <thead>\n",
       "    <tr style=\"text-align: right;\">\n",
       "      <th></th>\n",
       "      <th>type</th>\n",
       "      <th>name</th>\n",
       "      <th>filename</th>\n",
       "      <th>path</th>\n",
       "      <th>check_for_duplicates</th>\n",
       "      <th>currency</th>\n",
       "    </tr>\n",
       "  </thead>\n",
       "  <tbody>\n",
       "    <tr>\n",
       "      <th>0</th>\n",
       "      <td>ing_diba_giro</td>\n",
       "      <td>ing-diba</td>\n",
       "      <td>ing-diba</td>\n",
       "      <td>data/ing-diba</td>\n",
       "      <td>True</td>\n",
       "      <td>EUR</td>\n",
       "    </tr>\n",
       "  </tbody>\n",
       "</table>\n",
       "</div>"
      ],
      "text/plain": [
       "            type      name  filename           path check_for_duplicates  \\\n",
       "0  ing_diba_giro  ing-diba  ing-diba  data/ing-diba                 True   \n",
       "\n",
       "  currency  \n",
       "0      EUR  "
      ]
     },
     "execution_count": 19,
     "metadata": {},
     "output_type": "execute_result"
    }
   ],
   "source": [
    "dep = ha.depot('demo depot', path='data', currency='EUR')\n",
    "dep.add_account(acc)\n",
    "dep.account_infos"
   ]
  },
  {
   "cell_type": "markdown",
   "metadata": {},
   "source": [
    "## Manual accounts holding a stock or similar asset\n",
    "You can manage accounts with only seldom transactions manually, i.e., you can add transactions yourself. This makes, for example, sense for stocks that you expect to hold for a while. \n",
    "\n",
    "The only difference between an account holding a stock or fund is its currency which identifies the stock or fund. For automatic conversion of stock values to the currency of the depot the currency of the stock account should be a [ticker symbol](https://en.wikipedia.org/wiki/Ticker_symbol) which is listed on [Yahoo finance](https://finance.yahoo.com/lookup), as here:"
   ]
  },
  {
   "cell_type": "code",
   "execution_count": 20,
   "metadata": {
    "collapsed": true
   },
   "outputs": [],
   "source": [
    "yah = ha.accounts.manual_current('Yahoo', path=os.path.join('data', 'manual_accounts'), \n",
    "                                 currency='YHOO')"
   ]
  },
  {
   "cell_type": "markdown",
   "metadata": {},
   "source": [
    "Stock accounts just use the default transaction fields such as the value date and agent. Amount is the number of stocks that were bought or sold. Description can be anything and the transaction type may hold information about the price of the stock at the time of the transaction, although this is currently not used anywhere."
   ]
  },
  {
   "cell_type": "code",
   "execution_count": 21,
   "metadata": {
    "collapsed": false,
    "scrolled": true
   },
   "outputs": [
    {
     "data": {
      "text/html": [
       "<div>\n",
       "<table border=\"1\" class=\"dataframe\">\n",
       "  <thead>\n",
       "    <tr style=\"text-align: right;\">\n",
       "      <th></th>\n",
       "      <th>booking date</th>\n",
       "      <th>value date</th>\n",
       "      <th>agent</th>\n",
       "      <th>type</th>\n",
       "      <th>description</th>\n",
       "      <th>amount</th>\n",
       "    </tr>\n",
       "  </thead>\n",
       "  <tbody>\n",
       "    <tr>\n",
       "      <th>0</th>\n",
       "      <td>2007-04-23</td>\n",
       "      <td>2007-04-23</td>\n",
       "      <td>me</td>\n",
       "      <td>buying rate: 28.70 USD</td>\n",
       "      <td>buy</td>\n",
       "      <td>145.0</td>\n",
       "    </tr>\n",
       "    <tr>\n",
       "      <th>1</th>\n",
       "      <td>2008-12-01</td>\n",
       "      <td>2008-12-01</td>\n",
       "      <td>me</td>\n",
       "      <td>selling rate: 12.20 USD</td>\n",
       "      <td>sell (need cash)</td>\n",
       "      <td>-45.0</td>\n",
       "    </tr>\n",
       "  </tbody>\n",
       "</table>\n",
       "</div>"
      ],
      "text/plain": [
       "  booking date value date agent                     type       description  \\\n",
       "0   2007-04-23 2007-04-23    me   buying rate: 28.70 USD               buy   \n",
       "1   2008-12-01 2008-12-01    me  selling rate: 12.20 USD  sell (need cash)   \n",
       "\n",
       "   amount  \n",
       "0   145.0  \n",
       "1   -45.0  "
      ]
     },
     "execution_count": 21,
     "metadata": {},
     "output_type": "execute_result"
    }
   ],
   "source": [
    "yah.add_transaction('23.04.2007', agent='me', desc='buy', amount=145, \n",
    "                    t_type='buying rate: 28.70 USD')\n",
    "yah.add_transaction('01.12.2008', agent='me', desc='sell (need cash)', amount=-45, \n",
    "                    t_type='selling rate: 12.20 USD')\n",
    "yah.transactions"
   ]
  },
  {
   "cell_type": "markdown",
   "metadata": {},
   "source": [
    "You can store stocks which are not listed on Yahoo, or for which you can't find a ticker symbol using their [International Securities Identification Number (ISIN)](https://en.wikipedia.org/wiki/International_Securities_Identification_Number) as currency, but these can currently not be automatically converted to other currencies."
   ]
  },
  {
   "cell_type": "code",
   "execution_count": 22,
   "metadata": {
    "collapsed": false
   },
   "outputs": [],
   "source": [
    "stx = ha.accounts.manual_current('dbxtrack_stoxx_50', path=os.path.join('data', 'manual_accounts'),\n",
    "                                 currency='LU0380865021')\n",
    "stx.add_transaction('13.08.2013', 'me', 'buy', 139, t_type='buying rate: 34.52 EUR')"
   ]
  },
  {
   "cell_type": "markdown",
   "metadata": {},
   "source": [
    "adding the two stock accounts to the depot"
   ]
  },
  {
   "cell_type": "code",
   "execution_count": 23,
   "metadata": {
    "collapsed": false
   },
   "outputs": [
    {
     "data": {
      "text/html": [
       "<div>\n",
       "<table border=\"1\" class=\"dataframe\">\n",
       "  <thead>\n",
       "    <tr style=\"text-align: right;\">\n",
       "      <th></th>\n",
       "      <th>type</th>\n",
       "      <th>name</th>\n",
       "      <th>filename</th>\n",
       "      <th>path</th>\n",
       "      <th>check_for_duplicates</th>\n",
       "      <th>currency</th>\n",
       "    </tr>\n",
       "  </thead>\n",
       "  <tbody>\n",
       "    <tr>\n",
       "      <th>0</th>\n",
       "      <td>ing_diba_giro</td>\n",
       "      <td>ing-diba</td>\n",
       "      <td>ing-diba</td>\n",
       "      <td>data/ing-diba</td>\n",
       "      <td>True</td>\n",
       "      <td>EUR</td>\n",
       "    </tr>\n",
       "    <tr>\n",
       "      <th>1</th>\n",
       "      <td>manual_current</td>\n",
       "      <td>Yahoo</td>\n",
       "      <td>yahoo</td>\n",
       "      <td>data/manual_accounts</td>\n",
       "      <td>True</td>\n",
       "      <td>YHOO</td>\n",
       "    </tr>\n",
       "    <tr>\n",
       "      <th>2</th>\n",
       "      <td>manual_current</td>\n",
       "      <td>dbxtrack_stoxx_50</td>\n",
       "      <td>dbxtrack_stoxx_50</td>\n",
       "      <td>data/manual_accounts</td>\n",
       "      <td>True</td>\n",
       "      <td>LU0380865021</td>\n",
       "    </tr>\n",
       "  </tbody>\n",
       "</table>\n",
       "</div>"
      ],
      "text/plain": [
       "             type               name           filename                  path  \\\n",
       "0   ing_diba_giro           ing-diba           ing-diba         data/ing-diba   \n",
       "1  manual_current              Yahoo              yahoo  data/manual_accounts   \n",
       "2  manual_current  dbxtrack_stoxx_50  dbxtrack_stoxx_50  data/manual_accounts   \n",
       "\n",
       "  check_for_duplicates      currency  \n",
       "0                 True           EUR  \n",
       "1                 True          YHOO  \n",
       "2                 True  LU0380865021  "
      ]
     },
     "execution_count": 23,
     "metadata": {},
     "output_type": "execute_result"
    }
   ],
   "source": [
    "dep.add_account(yah)\n",
    "dep.add_account(stx)\n",
    "dep.account_infos"
   ]
  },
  {
   "cell_type": "markdown",
   "metadata": {},
   "source": [
    "## Manual account holding bitcoin\n",
    "A bitcoin account is just another account with currency 'BTC' or 'XBT'. It can be automatically converted to other currencies based on the current price of bitcoin. You can use the automatic csv-account, if you have csv-files for your transactions from somewhere, or handle the bitcoin transactions manually as here:"
   ]
  },
  {
   "cell_type": "code",
   "execution_count": 24,
   "metadata": {
    "collapsed": false
   },
   "outputs": [],
   "source": [
    "btc = ha.accounts.manual_current('bitcoin', path=os.path.join('data', 'manual_accounts'),\n",
    "                                 currency='BTC')\n",
    "btc.add_transaction('20.04.2016', 'me', 'buy', 6.5382, t_type='buying rate: 391.3129 EUR')\n",
    "dep.add_account(btc)"
   ]
  },
  {
   "cell_type": "markdown",
   "metadata": {},
   "source": [
    "## Showing an overview over assets in the depot\n",
    "Finally, putting it all together, you can get an overview over your current financial situation in the currency of the depot. The balance of accounts with inconvertible currencies will be returned in a list. The others are shown in a pie plot."
   ]
  },
  {
   "cell_type": "code",
   "execution_count": 25,
   "metadata": {
    "collapsed": false
   },
   "outputs": [
    {
     "name": "stderr",
     "output_type": "stream",
     "text": [
      "/media/bitzer/Data/Projekte/accounts/homeaccounting/conversions.py:39: UserWarning: converter: cannot currently convert assets to or from ISIN, returning NaN!\n",
      "  warn('converter: cannot currently convert assets to or from ISIN, '\n"
     ]
    },
    {
     "data": {
      "text/html": [
       "<div>\n",
       "<table border=\"1\" class=\"dataframe\">\n",
       "  <thead>\n",
       "    <tr style=\"text-align: right;\">\n",
       "      <th></th>\n",
       "      <th>balance</th>\n",
       "      <th>currency</th>\n",
       "      <th>name</th>\n",
       "    </tr>\n",
       "  </thead>\n",
       "  <tbody>\n",
       "    <tr>\n",
       "      <th>0</th>\n",
       "      <td>139.0</td>\n",
       "      <td>LU0380865021</td>\n",
       "      <td>dbxtrack_stoxx_50</td>\n",
       "    </tr>\n",
       "  </tbody>\n",
       "</table>\n",
       "</div>"
      ],
      "text/plain": [
       "   balance      currency               name\n",
       "0    139.0  LU0380865021  dbxtrack_stoxx_50"
      ]
     },
     "execution_count": 25,
     "metadata": {},
     "output_type": "execute_result"
    },
    {
     "data": {
      "image/png": "[encoded data removed]",
      "text/plain": [
       "<matplotlib.figure.Figure at 0x7f567da17320>"
      ]
     },
     "metadata": {},
     "output_type": "display_data"
    }
   ],
   "source": [
    "inconvertible = dep.show_overview()\n",
    "inconvertible"
   ]
  },
  {
   "cell_type": "markdown",
   "metadata": {},
   "source": [
    "# 3. Handling loans\n",
    "You have saved some money and you want to help a family member, friend or whoever in a difficult financial situation. So you give them a loan and transfer the money to them from one of your accounts. Obviously you want to keep track of their payments for paying back the loan. Perhaps you have even agreed that an interest is to be paid as defined by an [annual equivalent rate (AER)](https://en.wikipedia.org/wiki/Effective_interest_rate). This can be handled by the homeaccounting package using a `credit_subaccount`. Here's a description of how such a `credit_subaccount` is defined:"
   ]
  },
  {
   "cell_type": "code",
   "execution_count": 26,
   "metadata": {
    "collapsed": false
   },
   "outputs": [
    {
     "name": "stdout",
     "output_type": "stream",
     "text": [
      "Define a credit account based on a standard current account.\n",
      "        \n",
      "            The credit account is solely based on selected transactions of the\n",
      "            associated current account which can either be given as index into\n",
      "            the transaction list, or using search terms in the description \n",
      "            and/or agent of the transactions.\n",
      "            \n",
      "            Arguments\n",
      "            ---------\n",
      "            acc : account\n",
      "                the associated current account.\n",
      "                \n",
      "            desc : string\n",
      "                search pattern for description of transactions.\n",
      "                \n",
      "            aer : number (percent)\n",
      "                interest rate to be payable, as `annual equivalent rate`_\n",
      "            \n",
      "            tr_inds : 1D numpy array, default empty array\n",
      "                indeces into transaction list of acc, pointing to transactions\n",
      "                which cannot be identified by the search patterns\n",
      "                \n",
      "            agent : string, default None\n",
      "                search pattern for agent of transactions, will be combined with\n",
      "                search pattern for description\n",
      "                \n",
      "            verbose : bool, default True\n",
      "                whether to print state of credit account upon creation\n",
      "                \n",
      "            Returns\n",
      "            -------\n",
      "            instance of credit_subaccount defined by arguments\n",
      "                \n",
      "            .. _annual equivalent rate: https://en.wikipedia.org/wiki/Effective_interest_rate\n",
      "        \n"
     ]
    }
   ],
   "source": [
    "print(ha.accounts.credit_subaccount.__init__.__doc__)"
   ]
  },
  {
   "cell_type": "markdown",
   "metadata": {},
   "source": [
    "Here's the transaction I will be using as the initial payment that has been made to the borrower. This should obviously have a negative amount:"
   ]
  },
  {
   "cell_type": "code",
   "execution_count": 27,
   "metadata": {
    "collapsed": false
   },
   "outputs": [
    {
     "data": {
      "text/plain": [
       "booking date    2017-01-23 00:00:00\n",
       "value date      2017-01-23 00:00:00\n",
       "agent                      agent 82\n",
       "type                        type 82\n",
       "description          description 82\n",
       "amount                      -94.434\n",
       "Name: 82, dtype: object"
      ]
     },
     "execution_count": 27,
     "metadata": {},
     "output_type": "execute_result"
    }
   ],
   "source": [
    "init_ind = 82\n",
    "trans = acc.transactions.loc[82]\n",
    "trans"
   ]
  },
  {
   "cell_type": "markdown",
   "metadata": {},
   "source": [
    "Now I define the loan using a reference ('13EX5i') that defines later payments and should occur in the description field of the corresponding transactions. The first payment hasn't used the reference, but is given by a transaction number instead (the one chosen above). The loan has an AER of 1.3%. Payable interest is computed on a daily basis.\n",
    "\n",
    "After the `credit_subaccount` is created the current state of the loan is automatically printed. The negative 'current balance' is the amount that the borrower still needs to pay back."
   ]
  },
  {
   "cell_type": "code",
   "execution_count": 28,
   "metadata": {
    "collapsed": false
   },
   "outputs": [
    {
     "name": "stdout",
     "output_type": "stream",
     "text": [
      "current balance:      -94.57\n",
      "total given credit:   -94.43\n",
      "accrued interest:      -0.14\n"
     ]
    }
   ],
   "source": [
    "loan = ha.accounts.credit_subaccount(acc, '13EX5i', 1.3, 82)"
   ]
  },
  {
   "cell_type": "markdown",
   "metadata": {},
   "source": [
    "For demonstration purposes, I now manually add a transaction to the original account which is a payment from the borrower over half the total given credit:"
   ]
  },
  {
   "cell_type": "code",
   "execution_count": 29,
   "metadata": {
    "collapsed": false
   },
   "outputs": [],
   "source": [
    "today = ha.accounts.parse_date(pd.datetime.today().date())\n",
    "acc.transactions = pd.concat([acc.transactions, \n",
    "        pd.DataFrame([[today, today, trans.agent, trans.type,\n",
    "                       'payment for loan 13EX5i', -trans.amount/2]], \n",
    "                     index=[acc.transactions.index[-1]+1], \n",
    "                     columns=acc.transactions.columns)])"
   ]
  },
  {
   "cell_type": "markdown",
   "metadata": {},
   "source": [
    "The state of the loan automatically adjusts:"
   ]
  },
  {
   "cell_type": "code",
   "execution_count": 30,
   "metadata": {
    "collapsed": false
   },
   "outputs": [
    {
     "name": "stdout",
     "output_type": "stream",
     "text": [
      "current balance:      -47.35\n",
      "total given credit:   -94.43\n",
      "accrued interest:      -0.14\n"
     ]
    }
   ],
   "source": [
    "print(loan)"
   ]
  },
  {
   "cell_type": "code",
   "execution_count": null,
   "metadata": {
    "collapsed": true
   },
   "outputs": [],
   "source": []
  }
 ],
 "metadata": {
  "anaconda-cloud": {},
  "kernelspec": {
   "display_name": "Python [conda env:accounts]",
   "language": "python",
   "name": "conda-env-accounts-py"
  },
  "language_info": {
   "codemirror_mode": {
    "name": "ipython",
    "version": 3
   },
   "file_extension": ".py",
   "mimetype": "text/x-python",
   "name": "python",
   "nbconvert_exporter": "python",
   "pygments_lexer": "ipython3",
   "version": "3.5.2"
  }
 },
 "nbformat": 4,
 "nbformat_minor": 1
}
