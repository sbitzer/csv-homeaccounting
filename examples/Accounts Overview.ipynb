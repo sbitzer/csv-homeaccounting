{
 "cells": [
  {
   "cell_type": "markdown",
   "metadata": {},
   "source": [
    "# An overview over assets across several accounts\n",
    "First load available accounts."
   ]
  },
  {
   "cell_type": "code",
   "execution_count": 1,
   "metadata": {
    "collapsed": false
   },
   "outputs": [
    {
     "name": "stdout",
     "output_type": "stream",
     "text": [
      "ing_diba:  3875.04 EUR\n"
     ]
    }
   ],
   "source": [
    "%matplotlib inline\n",
    "import homeaccounting as ha\n",
    "\n",
    "ing_acc = ha.accounts.ing_diba_giro('ing_diba', path='/home/bitzer/Documents/finanzen/ing-diba')\n",
    "print(ing_acc)"
   ]
  },
  {
   "cell_type": "code",
   "execution_count": 2,
   "metadata": {
    "collapsed": false
   },
   "outputs": [
    {
     "data": {
      "text/plain": [
       "Timestamp('2010-12-16 00:00:00')"
      ]
     },
     "execution_count": 2,
     "metadata": {},
     "output_type": "execute_result"
    }
   ],
   "source": [
    "ing_acc.transactions.iloc[0][0]"
   ]
  },
  {
   "cell_type": "markdown",
   "metadata": {},
   "source": [
    "## Show summary of transactions for last 3 months"
   ]
  },
  {
   "cell_type": "code",
   "execution_count": null,
   "metadata": {
    "collapsed": false
   },
   "outputs": [],
   "source": []
  },
  {
   "cell_type": "markdown",
   "metadata": {},
   "source": [
    "## List transactions of a given time period"
   ]
  },
  {
   "cell_type": "code",
   "execution_count": null,
   "metadata": {
    "collapsed": true
   },
   "outputs": [],
   "source": []
  },
  {
   "cell_type": "markdown",
   "metadata": {},
   "source": [
    "## Search for a transaction"
   ]
  },
  {
   "cell_type": "code",
   "execution_count": null,
   "metadata": {
    "collapsed": false
   },
   "outputs": [],
   "source": []
  },
  {
   "cell_type": "markdown",
   "metadata": {},
   "source": [
    "## Depot"
   ]
  },
  {
   "cell_type": "code",
   "execution_count": 3,
   "metadata": {
    "collapsed": false
   },
   "outputs": [
    {
     "data": {
      "image/png": "[encoded data removed]",
      "text/plain": [
       "<matplotlib.figure.Figure at 0x7f8c0c671470>"
      ]
     },
     "metadata": {},
     "output_type": "display_data"
    }
   ],
   "source": [
    "dep = ha.depot()\n",
    "dep.show_overview()"
   ]
  },
  {
   "cell_type": "code",
   "execution_count": 4,
   "metadata": {
    "collapsed": false
   },
   "outputs": [
    {
     "data": {
      "text/html": [
       "<div>\n",
       "<table border=\"1\" class=\"dataframe\">\n",
       "  <thead>\n",
       "    <tr style=\"text-align: right;\">\n",
       "      <th></th>\n",
       "      <th>type</th>\n",
       "      <th>name</th>\n",
       "      <th>filename</th>\n",
       "      <th>path</th>\n",
       "      <th>check_for_duplicates</th>\n",
       "      <th>currency</th>\n",
       "    </tr>\n",
       "  </thead>\n",
       "  <tbody>\n",
       "    <tr>\n",
       "      <th>0</th>\n",
       "      <td>ing_diba_giro</td>\n",
       "      <td>ing_diba</td>\n",
       "      <td>ing_diba</td>\n",
       "      <td>/home/bitzer/Documents/finanzen/ing-diba</td>\n",
       "      <td>True</td>\n",
       "      <td>EUR</td>\n",
       "    </tr>\n",
       "    <tr>\n",
       "      <th>1</th>\n",
       "      <td>manual_current</td>\n",
       "      <td>moneyou</td>\n",
       "      <td>moneyou</td>\n",
       "      <td>/home/bitzer/Documents/finanzen/sparen</td>\n",
       "      <td>True</td>\n",
       "      <td>EUR</td>\n",
       "    </tr>\n",
       "  </tbody>\n",
       "</table>\n",
       "</div>"
      ],
      "text/plain": [
       "             type      name  filename  \\\n",
       "0   ing_diba_giro  ing_diba  ing_diba   \n",
       "1  manual_current   moneyou   moneyou   \n",
       "\n",
       "                                       path check_for_duplicates currency  \n",
       "0  /home/bitzer/Documents/finanzen/ing-diba                 True      EUR  \n",
       "1    /home/bitzer/Documents/finanzen/sparen                 True      EUR  "
      ]
     },
     "execution_count": 4,
     "metadata": {},
     "output_type": "execute_result"
    }
   ],
   "source": [
    "dep.account_infos"
   ]
  },
  {
   "cell_type": "code",
   "execution_count": 5,
   "metadata": {
    "collapsed": false
   },
   "outputs": [
    {
     "data": {
      "text/html": [
       "<div>\n",
       "<table border=\"1\" class=\"dataframe\">\n",
       "  <thead>\n",
       "    <tr style=\"text-align: right;\">\n",
       "      <th></th>\n",
       "      <th>booking date</th>\n",
       "      <th>value date</th>\n",
       "      <th>agent</th>\n",
       "      <th>type</th>\n",
       "      <th>description</th>\n",
       "      <th>amount</th>\n",
       "    </tr>\n",
       "  </thead>\n",
       "  <tbody>\n",
       "    <tr>\n",
       "      <th>0</th>\n",
       "      <td>2013-02-21</td>\n",
       "      <td>2013-02-21</td>\n",
       "      <td>Sebastian Bitzer</td>\n",
       "      <td>NaN</td>\n",
       "      <td>SPARKONTOEROEFFNUNG MoneYou</td>\n",
       "      <td>10.00</td>\n",
       "    </tr>\n",
       "    <tr>\n",
       "      <th>1</th>\n",
       "      <td>2013-03-18</td>\n",
       "      <td>2013-03-18</td>\n",
       "      <td>Sebastian Bitzer</td>\n",
       "      <td>NaN</td>\n",
       "      <td>Sparen</td>\n",
       "      <td>6000.00</td>\n",
       "    </tr>\n",
       "    <tr>\n",
       "      <th>2</th>\n",
       "      <td>2013-03-20</td>\n",
       "      <td>2013-03-20</td>\n",
       "      <td>Sebastian Bitzer</td>\n",
       "      <td>NaN</td>\n",
       "      <td>Einzahlung aus Girokonto</td>\n",
       "      <td>15900.00</td>\n",
       "    </tr>\n",
       "    <tr>\n",
       "      <th>3</th>\n",
       "      <td>2013-03-28</td>\n",
       "      <td>2013-03-28</td>\n",
       "      <td>Sebastian Bitzer</td>\n",
       "      <td>NaN</td>\n",
       "      <td>Zinsen</td>\n",
       "      <td>13.20</td>\n",
       "    </tr>\n",
       "    <tr>\n",
       "      <th>4</th>\n",
       "      <td>2013-06-28</td>\n",
       "      <td>2013-06-28</td>\n",
       "      <td>Sebastian Bitzer</td>\n",
       "      <td>NaN</td>\n",
       "      <td>Zinsen</td>\n",
       "      <td>86.76</td>\n",
       "    </tr>\n",
       "    <tr>\n",
       "      <th>5</th>\n",
       "      <td>2013-09-30</td>\n",
       "      <td>2013-09-30</td>\n",
       "      <td>Sebastian Bitzer</td>\n",
       "      <td>NaN</td>\n",
       "      <td>Zinsen</td>\n",
       "      <td>82.31</td>\n",
       "    </tr>\n",
       "    <tr>\n",
       "      <th>6</th>\n",
       "      <td>2013-12-31</td>\n",
       "      <td>2013-12-31</td>\n",
       "      <td>Sebastian Bitzer</td>\n",
       "      <td>NaN</td>\n",
       "      <td>Zinsen</td>\n",
       "      <td>80.74</td>\n",
       "    </tr>\n",
       "    <tr>\n",
       "      <th>7</th>\n",
       "      <td>2014-01-03</td>\n",
       "      <td>2014-01-03</td>\n",
       "      <td>Sebastian Bitzer</td>\n",
       "      <td>NaN</td>\n",
       "      <td>Einzahlung aus Girokonto</td>\n",
       "      <td>5000.00</td>\n",
       "    </tr>\n",
       "    <tr>\n",
       "      <th>8</th>\n",
       "      <td>2014-03-31</td>\n",
       "      <td>2014-03-31</td>\n",
       "      <td>Sebastian Bitzer</td>\n",
       "      <td>NaN</td>\n",
       "      <td>Zinsen</td>\n",
       "      <td>88.16</td>\n",
       "    </tr>\n",
       "    <tr>\n",
       "      <th>9</th>\n",
       "      <td>2014-06-30</td>\n",
       "      <td>2014-06-30</td>\n",
       "      <td>Sebastian Bitzer</td>\n",
       "      <td>NaN</td>\n",
       "      <td>Zinsen</td>\n",
       "      <td>88.36</td>\n",
       "    </tr>\n",
       "    <tr>\n",
       "      <th>10</th>\n",
       "      <td>2014-09-30</td>\n",
       "      <td>2014-09-30</td>\n",
       "      <td>Sebastian Bitzer</td>\n",
       "      <td>NaN</td>\n",
       "      <td>Zinsen</td>\n",
       "      <td>82.87</td>\n",
       "    </tr>\n",
       "    <tr>\n",
       "      <th>11</th>\n",
       "      <td>2014-12-31</td>\n",
       "      <td>2014-12-31</td>\n",
       "      <td>Sebastian Bitzer</td>\n",
       "      <td>NaN</td>\n",
       "      <td>Zinsen</td>\n",
       "      <td>76.66</td>\n",
       "    </tr>\n",
       "    <tr>\n",
       "      <th>12</th>\n",
       "      <td>2015-03-31</td>\n",
       "      <td>2015-03-31</td>\n",
       "      <td>Sebastian Bitzer</td>\n",
       "      <td>NaN</td>\n",
       "      <td>Zinsen</td>\n",
       "      <td>71.22</td>\n",
       "    </tr>\n",
       "    <tr>\n",
       "      <th>13</th>\n",
       "      <td>2015-06-30</td>\n",
       "      <td>2015-06-30</td>\n",
       "      <td>Sebastian Bitzer</td>\n",
       "      <td>NaN</td>\n",
       "      <td>Zinsen</td>\n",
       "      <td>72.20</td>\n",
       "    </tr>\n",
       "    <tr>\n",
       "      <th>14</th>\n",
       "      <td>2015-09-30</td>\n",
       "      <td>2015-09-30</td>\n",
       "      <td>Sebastian Bitzer</td>\n",
       "      <td>NaN</td>\n",
       "      <td>Zinsen</td>\n",
       "      <td>71.59</td>\n",
       "    </tr>\n",
       "    <tr>\n",
       "      <th>15</th>\n",
       "      <td>2015-12-31</td>\n",
       "      <td>2015-12-31</td>\n",
       "      <td>Sebastian Bitzer</td>\n",
       "      <td>NaN</td>\n",
       "      <td>Zinsen</td>\n",
       "      <td>66.39</td>\n",
       "    </tr>\n",
       "    <tr>\n",
       "      <th>16</th>\n",
       "      <td>2016-01-18</td>\n",
       "      <td>2016-01-18</td>\n",
       "      <td>Sebastian Bitzer</td>\n",
       "      <td>NaN</td>\n",
       "      <td>Einzahlung aus Girokonto</td>\n",
       "      <td>4000.00</td>\n",
       "    </tr>\n",
       "    <tr>\n",
       "      <th>17</th>\n",
       "      <td>2016-03-31</td>\n",
       "      <td>2016-03-31</td>\n",
       "      <td>Sebastian Bitzer</td>\n",
       "      <td>NaN</td>\n",
       "      <td>Zinsen</td>\n",
       "      <td>73.33</td>\n",
       "    </tr>\n",
       "    <tr>\n",
       "      <th>18</th>\n",
       "      <td>2016-06-30</td>\n",
       "      <td>2016-07-01</td>\n",
       "      <td>bank</td>\n",
       "      <td>NaN</td>\n",
       "      <td>Ihre Zinsabrechnung</td>\n",
       "      <td>64.55</td>\n",
       "    </tr>\n",
       "    <tr>\n",
       "      <th>19</th>\n",
       "      <td>2016-09-20</td>\n",
       "      <td>2016-09-20</td>\n",
       "      <td>Sebastian Bitzer</td>\n",
       "      <td>NaN</td>\n",
       "      <td>Sparen</td>\n",
       "      <td>4000.00</td>\n",
       "    </tr>\n",
       "    <tr>\n",
       "      <th>20</th>\n",
       "      <td>2016-09-30</td>\n",
       "      <td>2016-10-01</td>\n",
       "      <td>bank</td>\n",
       "      <td>NaN</td>\n",
       "      <td>Ihre Zinsabrechnung</td>\n",
       "      <td>53.83</td>\n",
       "    </tr>\n",
       "    <tr>\n",
       "      <th>21</th>\n",
       "      <td>2016-09-20</td>\n",
       "      <td>2016-09-20</td>\n",
       "      <td>Sebastian Bitzer</td>\n",
       "      <td>NaN</td>\n",
       "      <td>Anne</td>\n",
       "      <td>-1000.00</td>\n",
       "    </tr>\n",
       "  </tbody>\n",
       "</table>\n",
       "</div>"
      ],
      "text/plain": [
       "   booking date value date             agent  type  \\\n",
       "0    2013-02-21 2013-02-21  Sebastian Bitzer   NaN   \n",
       "1    2013-03-18 2013-03-18  Sebastian Bitzer   NaN   \n",
       "2    2013-03-20 2013-03-20  Sebastian Bitzer   NaN   \n",
       "3    2013-03-28 2013-03-28  Sebastian Bitzer   NaN   \n",
       "4    2013-06-28 2013-06-28  Sebastian Bitzer   NaN   \n",
       "5    2013-09-30 2013-09-30  Sebastian Bitzer   NaN   \n",
       "6    2013-12-31 2013-12-31  Sebastian Bitzer   NaN   \n",
       "7    2014-01-03 2014-01-03  Sebastian Bitzer   NaN   \n",
       "8    2014-03-31 2014-03-31  Sebastian Bitzer   NaN   \n",
       "9    2014-06-30 2014-06-30  Sebastian Bitzer   NaN   \n",
       "10   2014-09-30 2014-09-30  Sebastian Bitzer   NaN   \n",
       "11   2014-12-31 2014-12-31  Sebastian Bitzer   NaN   \n",
       "12   2015-03-31 2015-03-31  Sebastian Bitzer   NaN   \n",
       "13   2015-06-30 2015-06-30  Sebastian Bitzer   NaN   \n",
       "14   2015-09-30 2015-09-30  Sebastian Bitzer   NaN   \n",
       "15   2015-12-31 2015-12-31  Sebastian Bitzer   NaN   \n",
       "16   2016-01-18 2016-01-18  Sebastian Bitzer   NaN   \n",
       "17   2016-03-31 2016-03-31  Sebastian Bitzer   NaN   \n",
       "18   2016-06-30 2016-07-01              bank   NaN   \n",
       "19   2016-09-20 2016-09-20  Sebastian Bitzer   NaN   \n",
       "20   2016-09-30 2016-10-01              bank   NaN   \n",
       "21   2016-09-20 2016-09-20  Sebastian Bitzer   NaN   \n",
       "\n",
       "                    description    amount  \n",
       "0   SPARKONTOEROEFFNUNG MoneYou     10.00  \n",
       "1                        Sparen   6000.00  \n",
       "2      Einzahlung aus Girokonto  15900.00  \n",
       "3                        Zinsen     13.20  \n",
       "4                        Zinsen     86.76  \n",
       "5                        Zinsen     82.31  \n",
       "6                        Zinsen     80.74  \n",
       "7      Einzahlung aus Girokonto   5000.00  \n",
       "8                        Zinsen     88.16  \n",
       "9                        Zinsen     88.36  \n",
       "10                       Zinsen     82.87  \n",
       "11                       Zinsen     76.66  \n",
       "12                       Zinsen     71.22  \n",
       "13                       Zinsen     72.20  \n",
       "14                       Zinsen     71.59  \n",
       "15                       Zinsen     66.39  \n",
       "16     Einzahlung aus Girokonto   4000.00  \n",
       "17                       Zinsen     73.33  \n",
       "18          Ihre Zinsabrechnung     64.55  \n",
       "19                       Sparen   4000.00  \n",
       "20          Ihre Zinsabrechnung     53.83  \n",
       "21                         Anne  -1000.00  "
      ]
     },
     "execution_count": 5,
     "metadata": {},
     "output_type": "execute_result"
    }
   ],
   "source": [
    "dep.accounts[1].transactions"
   ]
  },
  {
   "cell_type": "code",
   "execution_count": null,
   "metadata": {
    "collapsed": true
   },
   "outputs": [],
   "source": []
  }
 ],
 "metadata": {
  "kernelspec": {
   "display_name": "Python 3",
   "language": "python",
   "name": "python3"
  },
  "language_info": {
   "codemirror_mode": {
    "name": "ipython",
    "version": 3
   },
   "file_extension": ".py",
   "mimetype": "text/x-python",
   "name": "python",
   "nbconvert_exporter": "python",
   "pygments_lexer": "ipython3",
   "version": "3.5.2"
  }
 },
 "nbformat": 4,
 "nbformat_minor": 0
}
