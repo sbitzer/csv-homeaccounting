{
 "cells": [
  {
   "cell_type": "code",
   "execution_count": 1,
   "metadata": {
    "collapsed": false
   },
   "outputs": [],
   "source": [
    "%matplotlib inline\n",
    "import homeaccounting as ha\n",
    "import pandas as pd\n",
    "import numpy as np\n",
    "import datetime as dt\n",
    "import os"
   ]
  },
  {
   "cell_type": "markdown",
   "metadata": {},
   "source": [
    "# Tutorial\n",
    "Demonstrates basic usage of the homeaccounting package.\n",
    "\n",
    "## Artificially create account with random transactions\n",
    "First, make some random transactions to play with. They will be stored in a csv-file as if I already made an account before. You shouldn't be needed to do anything of this, when using the package yourself later."
   ]
  },
  {
   "cell_type": "code",
   "execution_count": 2,
   "metadata": {
    "collapsed": false
   },
   "outputs": [],
   "source": [
    "# number of random transactions\n",
    "N = 100\n",
    "\n",
    "# make a random series of dates\n",
    "daydiff = np.random.exponential(scale=2, size=N).round()\n",
    "bdates = np.array([dt.date.today() - dt.timedelta(days=d) for d in daydiff.cumsum()])\n",
    "bdates = bdates[-1::-1]\n",
    "vdates = np.array([d + dt.timedelta(days=np.random.randint(3)) for d in bdates])\n",
    "\n",
    "agent = np.array(['agent %d' % i for i in range(N)])\n",
    "description = np.array(['description %d' % i for i in range(N)])\n",
    "types = np.array(['type %d' % i for i in range(N)])\n",
    "\n",
    "amounts = np.full(N, 1500, dtype=float)\n",
    "negind = np.random.rand(N) > N*2 / 30 / N\n",
    "amounts[negind] = -np.random.exponential(scale=100, size=negind.sum())\n",
    "amounts[0] += 2300\n",
    "\n",
    "transactions = pd.DataFrame(np.c_[bdates, vdates, agent, types, description, amounts], columns=('booking date', \n",
    "                            'value date', 'agent', 'type', 'description', 'amount'))\n",
    "\n",
    "filename = 'ing-diba'\n",
    "path = os.path.join('data', 'ing-diba')\n",
    "transactions.to_csv(os.path.join(path, filename)+'.csv')"
   ]
  },
  {
   "cell_type": "markdown",
   "metadata": {},
   "source": [
    "## Open existing ING-DiBa account\n",
    "I here open the artificially created ing_diba_giro account using the existing directory structure ('./data/ing-diba') with the previously used filename. \n",
    "\n",
    "The first time this is executed there should be a message saying that 6 transactions were added from two extra csv-files found in the account folder. These two files mimick the csv-format that you get when downloading transactions from the ING-DiBA website (at least in Germany). The two files contain 4 transactions of which 2 are common to both files. The common transactions will only be added once. Hence, there are only 6 added transactions.\n",
    "\n",
    "The print command will show the current balance of the account after all transactions are processed."
   ]
  },
  {
   "cell_type": "code",
   "execution_count": 3,
   "metadata": {
    "collapsed": false
   },
   "outputs": [
    {
     "name": "stdout",
     "output_type": "stream",
     "text": [
      "reading new csv-file: Umsatzanzeige_20161211.csv\n",
      "adding 4 new transactions\n",
      "\n",
      "reading new csv-file: Umsatzanzeige_20161217.csv\n",
      "adding 2 new transactions\n",
      "\n",
      "Added 6 new transactions.\n",
      "ing-diba: -2304.32 EUR\n"
     ]
    }
   ],
   "source": [
    "acc = ha.accounts.ing_diba_giro(filename, path=path)\n",
    "print(acc)"
   ]
  },
  {
   "cell_type": "markdown",
   "metadata": {},
   "source": [
    "## Showing monthly summary\n",
    "You can check and compare the sum of incoming and outgoing transactions for each recorded month. You can select which months to show by giving a (sequence of) integer(s) where 0 is the current month and larger numbers select the corresponding previous months."
   ]
  },
  {
   "cell_type": "code",
   "execution_count": 4,
   "metadata": {
    "collapsed": false
   },
   "outputs": [
    {
     "data": {
      "text/html": [
       "<div>\n",
       "<table border=\"1\" class=\"dataframe\">\n",
       "  <thead>\n",
       "    <tr style=\"text-align: right;\">\n",
       "      <th></th>\n",
       "      <th>debit</th>\n",
       "      <th>credit</th>\n",
       "      <th>balance</th>\n",
       "    </tr>\n",
       "  </thead>\n",
       "  <tbody>\n",
       "    <tr>\n",
       "      <th>2016-12-31</th>\n",
       "      <td>200.0</td>\n",
       "      <td>-2919.289607</td>\n",
       "      <td>-2719.289607</td>\n",
       "    </tr>\n",
       "    <tr>\n",
       "      <th>2016-11-30</th>\n",
       "      <td>3000.0</td>\n",
       "      <td>-1599.763786</td>\n",
       "      <td>1400.236214</td>\n",
       "    </tr>\n",
       "    <tr>\n",
       "      <th>2016-10-31</th>\n",
       "      <td>0.0</td>\n",
       "      <td>-1986.842517</td>\n",
       "      <td>-1986.842517</td>\n",
       "    </tr>\n",
       "    <tr>\n",
       "      <th>2016-09-30</th>\n",
       "      <td>3000.0</td>\n",
       "      <td>-1068.848794</td>\n",
       "      <td>1931.151206</td>\n",
       "    </tr>\n",
       "  </tbody>\n",
       "</table>\n",
       "</div>"
      ],
      "text/plain": [
       "             debit       credit      balance\n",
       "2016-12-31   200.0 -2919.289607 -2719.289607\n",
       "2016-11-30  3000.0 -1599.763786  1400.236214\n",
       "2016-10-31     0.0 -1986.842517 -1986.842517\n",
       "2016-09-30  3000.0 -1068.848794  1931.151206"
      ]
     },
     "execution_count": 4,
     "metadata": {},
     "output_type": "execute_result"
    }
   ],
   "source": [
    "acc.get_monthly_balance(range(4))"
   ]
  },
  {
   "cell_type": "markdown",
   "metadata": {},
   "source": [
    "Alternatively, you can select months by a string of the form yyyy-mm:"
   ]
  },
  {
   "cell_type": "code",
   "execution_count": 5,
   "metadata": {
    "collapsed": false
   },
   "outputs": [
    {
     "data": {
      "text/html": [
       "<div>\n",
       "<table border=\"1\" class=\"dataframe\">\n",
       "  <thead>\n",
       "    <tr style=\"text-align: right;\">\n",
       "      <th></th>\n",
       "      <th>debit</th>\n",
       "      <th>credit</th>\n",
       "      <th>balance</th>\n",
       "    </tr>\n",
       "  </thead>\n",
       "  <tbody>\n",
       "    <tr>\n",
       "      <th>2016-11-30</th>\n",
       "      <td>3000.0</td>\n",
       "      <td>-1599.763786</td>\n",
       "      <td>1400.236214</td>\n",
       "    </tr>\n",
       "  </tbody>\n",
       "</table>\n",
       "</div>"
      ],
      "text/plain": [
       "             debit       credit      balance\n",
       "2016-11-30  3000.0 -1599.763786  1400.236214"
      ]
     },
     "execution_count": 5,
     "metadata": {},
     "output_type": "execute_result"
    }
   ],
   "source": [
    "acc.get_monthly_balance('2016-11')"
   ]
  },
  {
   "cell_type": "markdown",
   "metadata": {},
   "source": [
    "## Selecting transactions of a given month\n",
    "Having seen the summaries for some months you may want to see the corresponding transactions."
   ]
  },
  {
   "cell_type": "code",
   "execution_count": 6,
   "metadata": {
    "collapsed": false
   },
   "outputs": [
    {
     "data": {
      "text/html": [
       "<div>\n",
       "<table border=\"1\" class=\"dataframe\">\n",
       "  <thead>\n",
       "    <tr style=\"text-align: right;\">\n",
       "      <th></th>\n",
       "      <th>booking date</th>\n",
       "      <th>value date</th>\n",
       "      <th>agent</th>\n",
       "      <th>type</th>\n",
       "      <th>description</th>\n",
       "      <th>amount</th>\n",
       "    </tr>\n",
       "  </thead>\n",
       "  <tbody>\n",
       "    <tr>\n",
       "      <th>45</th>\n",
       "      <td>2016-09-30</td>\n",
       "      <td>2016-10-01</td>\n",
       "      <td>agent 45</td>\n",
       "      <td>type 45</td>\n",
       "      <td>description 45</td>\n",
       "      <td>-30.666177</td>\n",
       "    </tr>\n",
       "    <tr>\n",
       "      <th>46</th>\n",
       "      <td>2016-10-02</td>\n",
       "      <td>2016-10-03</td>\n",
       "      <td>agent 46</td>\n",
       "      <td>type 46</td>\n",
       "      <td>description 46</td>\n",
       "      <td>-76.286861</td>\n",
       "    </tr>\n",
       "    <tr>\n",
       "      <th>47</th>\n",
       "      <td>2016-10-02</td>\n",
       "      <td>2016-10-03</td>\n",
       "      <td>agent 47</td>\n",
       "      <td>type 47</td>\n",
       "      <td>description 47</td>\n",
       "      <td>-66.564557</td>\n",
       "    </tr>\n",
       "    <tr>\n",
       "      <th>48</th>\n",
       "      <td>2016-10-03</td>\n",
       "      <td>2016-10-04</td>\n",
       "      <td>agent 48</td>\n",
       "      <td>type 48</td>\n",
       "      <td>description 48</td>\n",
       "      <td>-33.122087</td>\n",
       "    </tr>\n",
       "    <tr>\n",
       "      <th>49</th>\n",
       "      <td>2016-10-05</td>\n",
       "      <td>2016-10-06</td>\n",
       "      <td>agent 49</td>\n",
       "      <td>type 49</td>\n",
       "      <td>description 49</td>\n",
       "      <td>-133.278461</td>\n",
       "    </tr>\n",
       "    <tr>\n",
       "      <th>50</th>\n",
       "      <td>2016-10-07</td>\n",
       "      <td>2016-10-08</td>\n",
       "      <td>agent 50</td>\n",
       "      <td>type 50</td>\n",
       "      <td>description 50</td>\n",
       "      <td>-56.377195</td>\n",
       "    </tr>\n",
       "    <tr>\n",
       "      <th>51</th>\n",
       "      <td>2016-10-08</td>\n",
       "      <td>2016-10-09</td>\n",
       "      <td>agent 51</td>\n",
       "      <td>type 51</td>\n",
       "      <td>description 51</td>\n",
       "      <td>-57.551551</td>\n",
       "    </tr>\n",
       "    <tr>\n",
       "      <th>52</th>\n",
       "      <td>2016-10-09</td>\n",
       "      <td>2016-10-10</td>\n",
       "      <td>agent 52</td>\n",
       "      <td>type 52</td>\n",
       "      <td>description 52</td>\n",
       "      <td>-34.546446</td>\n",
       "    </tr>\n",
       "    <tr>\n",
       "      <th>53</th>\n",
       "      <td>2016-10-10</td>\n",
       "      <td>2016-10-11</td>\n",
       "      <td>agent 53</td>\n",
       "      <td>type 53</td>\n",
       "      <td>description 53</td>\n",
       "      <td>-109.523293</td>\n",
       "    </tr>\n",
       "    <tr>\n",
       "      <th>54</th>\n",
       "      <td>2016-10-11</td>\n",
       "      <td>2016-10-12</td>\n",
       "      <td>agent 54</td>\n",
       "      <td>type 54</td>\n",
       "      <td>description 54</td>\n",
       "      <td>-397.202835</td>\n",
       "    </tr>\n",
       "    <tr>\n",
       "      <th>55</th>\n",
       "      <td>2016-10-12</td>\n",
       "      <td>2016-10-14</td>\n",
       "      <td>agent 55</td>\n",
       "      <td>type 55</td>\n",
       "      <td>description 55</td>\n",
       "      <td>-162.514190</td>\n",
       "    </tr>\n",
       "    <tr>\n",
       "      <th>56</th>\n",
       "      <td>2016-10-17</td>\n",
       "      <td>2016-10-19</td>\n",
       "      <td>agent 56</td>\n",
       "      <td>type 56</td>\n",
       "      <td>description 56</td>\n",
       "      <td>-37.472913</td>\n",
       "    </tr>\n",
       "    <tr>\n",
       "      <th>58</th>\n",
       "      <td>2016-10-24</td>\n",
       "      <td>2016-10-24</td>\n",
       "      <td>agent 58</td>\n",
       "      <td>type 58</td>\n",
       "      <td>description 58</td>\n",
       "      <td>-37.088761</td>\n",
       "    </tr>\n",
       "    <tr>\n",
       "      <th>57</th>\n",
       "      <td>2016-10-24</td>\n",
       "      <td>2016-10-26</td>\n",
       "      <td>agent 57</td>\n",
       "      <td>type 57</td>\n",
       "      <td>description 57</td>\n",
       "      <td>-160.336754</td>\n",
       "    </tr>\n",
       "    <tr>\n",
       "      <th>59</th>\n",
       "      <td>2016-10-26</td>\n",
       "      <td>2016-10-26</td>\n",
       "      <td>agent 59</td>\n",
       "      <td>type 59</td>\n",
       "      <td>description 59</td>\n",
       "      <td>-235.095603</td>\n",
       "    </tr>\n",
       "    <tr>\n",
       "      <th>60</th>\n",
       "      <td>2016-10-26</td>\n",
       "      <td>2016-10-27</td>\n",
       "      <td>agent 60</td>\n",
       "      <td>type 60</td>\n",
       "      <td>description 60</td>\n",
       "      <td>-10.147379</td>\n",
       "    </tr>\n",
       "    <tr>\n",
       "      <th>61</th>\n",
       "      <td>2016-10-27</td>\n",
       "      <td>2016-10-29</td>\n",
       "      <td>agent 61</td>\n",
       "      <td>type 61</td>\n",
       "      <td>description 61</td>\n",
       "      <td>-151.046508</td>\n",
       "    </tr>\n",
       "    <tr>\n",
       "      <th>62</th>\n",
       "      <td>2016-10-28</td>\n",
       "      <td>2016-10-29</td>\n",
       "      <td>agent 62</td>\n",
       "      <td>type 62</td>\n",
       "      <td>description 62</td>\n",
       "      <td>-70.920729</td>\n",
       "    </tr>\n",
       "    <tr>\n",
       "      <th>64</th>\n",
       "      <td>2016-10-30</td>\n",
       "      <td>2016-10-30</td>\n",
       "      <td>agent 64</td>\n",
       "      <td>type 64</td>\n",
       "      <td>description 64</td>\n",
       "      <td>-88.454828</td>\n",
       "    </tr>\n",
       "    <tr>\n",
       "      <th>63</th>\n",
       "      <td>2016-10-29</td>\n",
       "      <td>2016-10-31</td>\n",
       "      <td>agent 63</td>\n",
       "      <td>type 63</td>\n",
       "      <td>description 63</td>\n",
       "      <td>-38.645390</td>\n",
       "    </tr>\n",
       "  </tbody>\n",
       "</table>\n",
       "</div>"
      ],
      "text/plain": [
       "   booking date value date     agent     type     description      amount\n",
       "45   2016-09-30 2016-10-01  agent 45  type 45  description 45  -30.666177\n",
       "46   2016-10-02 2016-10-03  agent 46  type 46  description 46  -76.286861\n",
       "47   2016-10-02 2016-10-03  agent 47  type 47  description 47  -66.564557\n",
       "48   2016-10-03 2016-10-04  agent 48  type 48  description 48  -33.122087\n",
       "49   2016-10-05 2016-10-06  agent 49  type 49  description 49 -133.278461\n",
       "50   2016-10-07 2016-10-08  agent 50  type 50  description 50  -56.377195\n",
       "51   2016-10-08 2016-10-09  agent 51  type 51  description 51  -57.551551\n",
       "52   2016-10-09 2016-10-10  agent 52  type 52  description 52  -34.546446\n",
       "53   2016-10-10 2016-10-11  agent 53  type 53  description 53 -109.523293\n",
       "54   2016-10-11 2016-10-12  agent 54  type 54  description 54 -397.202835\n",
       "55   2016-10-12 2016-10-14  agent 55  type 55  description 55 -162.514190\n",
       "56   2016-10-17 2016-10-19  agent 56  type 56  description 56  -37.472913\n",
       "58   2016-10-24 2016-10-24  agent 58  type 58  description 58  -37.088761\n",
       "57   2016-10-24 2016-10-26  agent 57  type 57  description 57 -160.336754\n",
       "59   2016-10-26 2016-10-26  agent 59  type 59  description 59 -235.095603\n",
       "60   2016-10-26 2016-10-27  agent 60  type 60  description 60  -10.147379\n",
       "61   2016-10-27 2016-10-29  agent 61  type 61  description 61 -151.046508\n",
       "62   2016-10-28 2016-10-29  agent 62  type 62  description 62  -70.920729\n",
       "64   2016-10-30 2016-10-30  agent 64  type 64  description 64  -88.454828\n",
       "63   2016-10-29 2016-10-31  agent 63  type 63  description 63  -38.645390"
      ]
     },
     "execution_count": 6,
     "metadata": {},
     "output_type": "execute_result"
    }
   ],
   "source": [
    "tr, _ = acc.get_month('2016-10')\n",
    "tr"
   ]
  },
  {
   "cell_type": "markdown",
   "metadata": {},
   "source": [
    "## Selecting most recent transactions\n",
    "You can get the N most recent transactions."
   ]
  },
  {
   "cell_type": "code",
   "execution_count": 7,
   "metadata": {
    "collapsed": false
   },
   "outputs": [
    {
     "data": {
      "text/html": [
       "<div>\n",
       "<table border=\"1\" class=\"dataframe\">\n",
       "  <thead>\n",
       "    <tr style=\"text-align: right;\">\n",
       "      <th></th>\n",
       "      <th>booking date</th>\n",
       "      <th>value date</th>\n",
       "      <th>agent</th>\n",
       "      <th>type</th>\n",
       "      <th>description</th>\n",
       "      <th>amount</th>\n",
       "    </tr>\n",
       "  </thead>\n",
       "  <tbody>\n",
       "    <tr>\n",
       "      <th>99</th>\n",
       "      <td>2016-12-26</td>\n",
       "      <td>2016-12-26</td>\n",
       "      <td>agent 99</td>\n",
       "      <td>type 99</td>\n",
       "      <td>description 99</td>\n",
       "      <td>-27.103774</td>\n",
       "    </tr>\n",
       "    <tr>\n",
       "      <th>98</th>\n",
       "      <td>2016-12-25</td>\n",
       "      <td>2016-12-26</td>\n",
       "      <td>agent 98</td>\n",
       "      <td>type 98</td>\n",
       "      <td>description 98</td>\n",
       "      <td>-353.990345</td>\n",
       "    </tr>\n",
       "    <tr>\n",
       "      <th>97</th>\n",
       "      <td>2016-12-25</td>\n",
       "      <td>2016-12-25</td>\n",
       "      <td>agent 97</td>\n",
       "      <td>type 97</td>\n",
       "      <td>description 97</td>\n",
       "      <td>-118.887538</td>\n",
       "    </tr>\n",
       "    <tr>\n",
       "      <th>96</th>\n",
       "      <td>2016-12-24</td>\n",
       "      <td>2016-12-24</td>\n",
       "      <td>agent 96</td>\n",
       "      <td>type 96</td>\n",
       "      <td>description 96</td>\n",
       "      <td>-49.465087</td>\n",
       "    </tr>\n",
       "    <tr>\n",
       "      <th>95</th>\n",
       "      <td>2016-12-22</td>\n",
       "      <td>2016-12-24</td>\n",
       "      <td>agent 95</td>\n",
       "      <td>type 95</td>\n",
       "      <td>description 95</td>\n",
       "      <td>-193.188150</td>\n",
       "    </tr>\n",
       "    <tr>\n",
       "      <th>94</th>\n",
       "      <td>2016-12-18</td>\n",
       "      <td>2016-12-18</td>\n",
       "      <td>agent 94</td>\n",
       "      <td>type 94</td>\n",
       "      <td>description 94</td>\n",
       "      <td>-48.476153</td>\n",
       "    </tr>\n",
       "    <tr>\n",
       "      <th>93</th>\n",
       "      <td>2016-12-15</td>\n",
       "      <td>2016-12-16</td>\n",
       "      <td>agent 93</td>\n",
       "      <td>type 93</td>\n",
       "      <td>description 93</td>\n",
       "      <td>-1.067789</td>\n",
       "    </tr>\n",
       "    <tr>\n",
       "      <th>90</th>\n",
       "      <td>2016-12-12</td>\n",
       "      <td>2016-12-14</td>\n",
       "      <td>agent 90</td>\n",
       "      <td>type 90</td>\n",
       "      <td>description 90</td>\n",
       "      <td>-117.248644</td>\n",
       "    </tr>\n",
       "    <tr>\n",
       "      <th>91</th>\n",
       "      <td>2016-12-12</td>\n",
       "      <td>2016-12-14</td>\n",
       "      <td>agent 91</td>\n",
       "      <td>type 91</td>\n",
       "      <td>description 91</td>\n",
       "      <td>-75.114816</td>\n",
       "    </tr>\n",
       "    <tr>\n",
       "      <th>104</th>\n",
       "      <td>2016-12-13</td>\n",
       "      <td>2016-12-13</td>\n",
       "      <td>agent 34</td>\n",
       "      <td>type 2</td>\n",
       "      <td>description 139</td>\n",
       "      <td>200.000000</td>\n",
       "    </tr>\n",
       "  </tbody>\n",
       "</table>\n",
       "</div>"
      ],
      "text/plain": [
       "    booking date value date     agent     type      description      amount\n",
       "99    2016-12-26 2016-12-26  agent 99  type 99   description 99  -27.103774\n",
       "98    2016-12-25 2016-12-26  agent 98  type 98   description 98 -353.990345\n",
       "97    2016-12-25 2016-12-25  agent 97  type 97   description 97 -118.887538\n",
       "96    2016-12-24 2016-12-24  agent 96  type 96   description 96  -49.465087\n",
       "95    2016-12-22 2016-12-24  agent 95  type 95   description 95 -193.188150\n",
       "94    2016-12-18 2016-12-18  agent 94  type 94   description 94  -48.476153\n",
       "93    2016-12-15 2016-12-16  agent 93  type 93   description 93   -1.067789\n",
       "90    2016-12-12 2016-12-14  agent 90  type 90   description 90 -117.248644\n",
       "91    2016-12-12 2016-12-14  agent 91  type 91   description 91  -75.114816\n",
       "104   2016-12-13 2016-12-13  agent 34   type 2  description 139  200.000000"
      ]
     },
     "execution_count": 7,
     "metadata": {},
     "output_type": "execute_result"
    }
   ],
   "source": [
    "acc.get_last(10)"
   ]
  },
  {
   "cell_type": "markdown",
   "metadata": {},
   "source": [
    "## Finding transactions\n",
    "You can look for specific transactions based on equality criteria for the different fields of a transaction. For example, for the amount:"
   ]
  },
  {
   "cell_type": "code",
   "execution_count": 8,
   "metadata": {
    "collapsed": false
   },
   "outputs": [
    {
     "data": {
      "text/html": [
       "<div>\n",
       "<table border=\"1\" class=\"dataframe\">\n",
       "  <thead>\n",
       "    <tr style=\"text-align: right;\">\n",
       "      <th></th>\n",
       "      <th>booking date</th>\n",
       "      <th>value date</th>\n",
       "      <th>agent</th>\n",
       "      <th>type</th>\n",
       "      <th>description</th>\n",
       "      <th>amount</th>\n",
       "    </tr>\n",
       "  </thead>\n",
       "  <tbody>\n",
       "    <tr>\n",
       "      <th>38</th>\n",
       "      <td>2016-09-19</td>\n",
       "      <td>2016-09-21</td>\n",
       "      <td>agent 38</td>\n",
       "      <td>type 38</td>\n",
       "      <td>description 38</td>\n",
       "      <td>1500.0</td>\n",
       "    </tr>\n",
       "    <tr>\n",
       "      <th>44</th>\n",
       "      <td>2016-09-29</td>\n",
       "      <td>2016-09-30</td>\n",
       "      <td>agent 44</td>\n",
       "      <td>type 44</td>\n",
       "      <td>description 44</td>\n",
       "      <td>1500.0</td>\n",
       "    </tr>\n",
       "    <tr>\n",
       "      <th>70</th>\n",
       "      <td>2016-11-15</td>\n",
       "      <td>2016-11-15</td>\n",
       "      <td>agent 70</td>\n",
       "      <td>type 70</td>\n",
       "      <td>description 70</td>\n",
       "      <td>1500.0</td>\n",
       "    </tr>\n",
       "    <tr>\n",
       "      <th>77</th>\n",
       "      <td>2016-11-27</td>\n",
       "      <td>2016-11-27</td>\n",
       "      <td>agent 77</td>\n",
       "      <td>type 77</td>\n",
       "      <td>description 77</td>\n",
       "      <td>1500.0</td>\n",
       "    </tr>\n",
       "  </tbody>\n",
       "</table>\n",
       "</div>"
      ],
      "text/plain": [
       "   booking date value date     agent     type     description  amount\n",
       "38   2016-09-19 2016-09-21  agent 38  type 38  description 38  1500.0\n",
       "44   2016-09-29 2016-09-30  agent 44  type 44  description 44  1500.0\n",
       "70   2016-11-15 2016-11-15  agent 70  type 70  description 70  1500.0\n",
       "77   2016-11-27 2016-11-27  agent 77  type 77  description 77  1500.0"
      ]
     },
     "execution_count": 8,
     "metadata": {},
     "output_type": "execute_result"
    }
   ],
   "source": [
    "acc.find(amount=1500)"
   ]
  },
  {
   "cell_type": "markdown",
   "metadata": {},
   "source": [
    "for the dates:"
   ]
  },
  {
   "cell_type": "code",
   "execution_count": 9,
   "metadata": {
    "collapsed": false
   },
   "outputs": [
    {
     "data": {
      "text/html": [
       "<div>\n",
       "<table border=\"1\" class=\"dataframe\">\n",
       "  <thead>\n",
       "    <tr style=\"text-align: right;\">\n",
       "      <th></th>\n",
       "      <th>booking date</th>\n",
       "      <th>value date</th>\n",
       "      <th>agent</th>\n",
       "      <th>type</th>\n",
       "      <th>description</th>\n",
       "      <th>amount</th>\n",
       "    </tr>\n",
       "  </thead>\n",
       "  <tbody>\n",
       "  </tbody>\n",
       "</table>\n",
       "</div>"
      ],
      "text/plain": [
       "Empty DataFrame\n",
       "Columns: [booking date, value date, agent, type, description, amount]\n",
       "Index: []"
      ]
     },
     "execution_count": 9,
     "metadata": {},
     "output_type": "execute_result"
    }
   ],
   "source": [
    "acc.find(vdate='20161103')"
   ]
  },
  {
   "cell_type": "code",
   "execution_count": 10,
   "metadata": {
    "collapsed": false
   },
   "outputs": [
    {
     "data": {
      "text/html": [
       "<div>\n",
       "<table border=\"1\" class=\"dataframe\">\n",
       "  <thead>\n",
       "    <tr style=\"text-align: right;\">\n",
       "      <th></th>\n",
       "      <th>booking date</th>\n",
       "      <th>value date</th>\n",
       "      <th>agent</th>\n",
       "      <th>type</th>\n",
       "      <th>description</th>\n",
       "      <th>amount</th>\n",
       "    </tr>\n",
       "  </thead>\n",
       "  <tbody>\n",
       "  </tbody>\n",
       "</table>\n",
       "</div>"
      ],
      "text/plain": [
       "Empty DataFrame\n",
       "Columns: [booking date, value date, agent, type, description, amount]\n",
       "Index: []"
      ]
     },
     "execution_count": 10,
     "metadata": {},
     "output_type": "execute_result"
    }
   ],
   "source": [
    "acc.find(bdate='20.08.2016')"
   ]
  },
  {
   "cell_type": "markdown",
   "metadata": {},
   "source": [
    "For the string fields the input is interpreted as a search pattern. All transactions which contain the given pattern in the selected field will be returned:"
   ]
  },
  {
   "cell_type": "code",
   "execution_count": 11,
   "metadata": {
    "collapsed": false
   },
   "outputs": [
    {
     "data": {
      "text/html": [
       "<div>\n",
       "<table border=\"1\" class=\"dataframe\">\n",
       "  <thead>\n",
       "    <tr style=\"text-align: right;\">\n",
       "      <th></th>\n",
       "      <th>booking date</th>\n",
       "      <th>value date</th>\n",
       "      <th>agent</th>\n",
       "      <th>type</th>\n",
       "      <th>description</th>\n",
       "      <th>amount</th>\n",
       "    </tr>\n",
       "  </thead>\n",
       "  <tbody>\n",
       "    <tr>\n",
       "      <th>4</th>\n",
       "      <td>2016-07-17</td>\n",
       "      <td>2016-07-17</td>\n",
       "      <td>agent 4</td>\n",
       "      <td>type 4</td>\n",
       "      <td>description 4</td>\n",
       "      <td>-201.637536</td>\n",
       "    </tr>\n",
       "    <tr>\n",
       "      <th>40</th>\n",
       "      <td>2016-09-21</td>\n",
       "      <td>2016-09-21</td>\n",
       "      <td>agent 40</td>\n",
       "      <td>type 40</td>\n",
       "      <td>description 40</td>\n",
       "      <td>-18.925118</td>\n",
       "    </tr>\n",
       "    <tr>\n",
       "      <th>41</th>\n",
       "      <td>2016-09-22</td>\n",
       "      <td>2016-09-24</td>\n",
       "      <td>agent 41</td>\n",
       "      <td>type 41</td>\n",
       "      <td>description 41</td>\n",
       "      <td>-62.482187</td>\n",
       "    </tr>\n",
       "    <tr>\n",
       "      <th>42</th>\n",
       "      <td>2016-09-23</td>\n",
       "      <td>2016-09-25</td>\n",
       "      <td>agent 42</td>\n",
       "      <td>type 42</td>\n",
       "      <td>description 42</td>\n",
       "      <td>-69.726867</td>\n",
       "    </tr>\n",
       "    <tr>\n",
       "      <th>43</th>\n",
       "      <td>2016-09-26</td>\n",
       "      <td>2016-09-26</td>\n",
       "      <td>agent 43</td>\n",
       "      <td>type 43</td>\n",
       "      <td>description 43</td>\n",
       "      <td>-3.647068</td>\n",
       "    </tr>\n",
       "    <tr>\n",
       "      <th>44</th>\n",
       "      <td>2016-09-29</td>\n",
       "      <td>2016-09-30</td>\n",
       "      <td>agent 44</td>\n",
       "      <td>type 44</td>\n",
       "      <td>description 44</td>\n",
       "      <td>1500.000000</td>\n",
       "    </tr>\n",
       "    <tr>\n",
       "      <th>45</th>\n",
       "      <td>2016-09-30</td>\n",
       "      <td>2016-10-01</td>\n",
       "      <td>agent 45</td>\n",
       "      <td>type 45</td>\n",
       "      <td>description 45</td>\n",
       "      <td>-30.666177</td>\n",
       "    </tr>\n",
       "    <tr>\n",
       "      <th>46</th>\n",
       "      <td>2016-10-02</td>\n",
       "      <td>2016-10-03</td>\n",
       "      <td>agent 46</td>\n",
       "      <td>type 46</td>\n",
       "      <td>description 46</td>\n",
       "      <td>-76.286861</td>\n",
       "    </tr>\n",
       "    <tr>\n",
       "      <th>47</th>\n",
       "      <td>2016-10-02</td>\n",
       "      <td>2016-10-03</td>\n",
       "      <td>agent 47</td>\n",
       "      <td>type 47</td>\n",
       "      <td>description 47</td>\n",
       "      <td>-66.564557</td>\n",
       "    </tr>\n",
       "    <tr>\n",
       "      <th>48</th>\n",
       "      <td>2016-10-03</td>\n",
       "      <td>2016-10-04</td>\n",
       "      <td>agent 48</td>\n",
       "      <td>type 48</td>\n",
       "      <td>description 48</td>\n",
       "      <td>-33.122087</td>\n",
       "    </tr>\n",
       "    <tr>\n",
       "      <th>49</th>\n",
       "      <td>2016-10-05</td>\n",
       "      <td>2016-10-06</td>\n",
       "      <td>agent 49</td>\n",
       "      <td>type 49</td>\n",
       "      <td>description 49</td>\n",
       "      <td>-133.278461</td>\n",
       "    </tr>\n",
       "  </tbody>\n",
       "</table>\n",
       "</div>"
      ],
      "text/plain": [
       "   booking date value date     agent     type     description       amount\n",
       "4    2016-07-17 2016-07-17   agent 4   type 4   description 4  -201.637536\n",
       "40   2016-09-21 2016-09-21  agent 40  type 40  description 40   -18.925118\n",
       "41   2016-09-22 2016-09-24  agent 41  type 41  description 41   -62.482187\n",
       "42   2016-09-23 2016-09-25  agent 42  type 42  description 42   -69.726867\n",
       "43   2016-09-26 2016-09-26  agent 43  type 43  description 43    -3.647068\n",
       "44   2016-09-29 2016-09-30  agent 44  type 44  description 44  1500.000000\n",
       "45   2016-09-30 2016-10-01  agent 45  type 45  description 45   -30.666177\n",
       "46   2016-10-02 2016-10-03  agent 46  type 46  description 46   -76.286861\n",
       "47   2016-10-02 2016-10-03  agent 47  type 47  description 47   -66.564557\n",
       "48   2016-10-03 2016-10-04  agent 48  type 48  description 48   -33.122087\n",
       "49   2016-10-05 2016-10-06  agent 49  type 49  description 49  -133.278461"
      ]
     },
     "execution_count": 11,
     "metadata": {},
     "output_type": "execute_result"
    }
   ],
   "source": [
    "acc.find(agent='agent 4')"
   ]
  },
  {
   "cell_type": "code",
   "execution_count": 12,
   "metadata": {
    "collapsed": false
   },
   "outputs": [
    {
     "data": {
      "text/html": [
       "<div>\n",
       "<table border=\"1\" class=\"dataframe\">\n",
       "  <thead>\n",
       "    <tr style=\"text-align: right;\">\n",
       "      <th></th>\n",
       "      <th>booking date</th>\n",
       "      <th>value date</th>\n",
       "      <th>agent</th>\n",
       "      <th>type</th>\n",
       "      <th>description</th>\n",
       "      <th>amount</th>\n",
       "    </tr>\n",
       "  </thead>\n",
       "  <tbody>\n",
       "    <tr>\n",
       "      <th>46</th>\n",
       "      <td>2016-10-02</td>\n",
       "      <td>2016-10-03</td>\n",
       "      <td>agent 46</td>\n",
       "      <td>type 46</td>\n",
       "      <td>description 46</td>\n",
       "      <td>-76.286861</td>\n",
       "    </tr>\n",
       "  </tbody>\n",
       "</table>\n",
       "</div>"
      ],
      "text/plain": [
       "   booking date value date     agent     type     description     amount\n",
       "46   2016-10-02 2016-10-03  agent 46  type 46  description 46 -76.286861"
      ]
     },
     "execution_count": 12,
     "metadata": {},
     "output_type": "execute_result"
    }
   ],
   "source": [
    "acc.find(t_type='46')"
   ]
  },
  {
   "cell_type": "markdown",
   "metadata": {},
   "source": [
    "By default, search is case-insensitive, but you can change that:"
   ]
  },
  {
   "cell_type": "code",
   "execution_count": 13,
   "metadata": {
    "collapsed": false
   },
   "outputs": [
    {
     "data": {
      "text/html": [
       "<div>\n",
       "<table border=\"1\" class=\"dataframe\">\n",
       "  <thead>\n",
       "    <tr style=\"text-align: right;\">\n",
       "      <th></th>\n",
       "      <th>booking date</th>\n",
       "      <th>value date</th>\n",
       "      <th>agent</th>\n",
       "      <th>type</th>\n",
       "      <th>description</th>\n",
       "      <th>amount</th>\n",
       "    </tr>\n",
       "  </thead>\n",
       "  <tbody>\n",
       "    <tr>\n",
       "      <th>12</th>\n",
       "      <td>2016-07-28</td>\n",
       "      <td>2016-07-30</td>\n",
       "      <td>agent 12</td>\n",
       "      <td>type 12</td>\n",
       "      <td>description 12</td>\n",
       "      <td>-95.208549</td>\n",
       "    </tr>\n",
       "    <tr>\n",
       "      <th>105</th>\n",
       "      <td>2016-12-12</td>\n",
       "      <td>2016-12-12</td>\n",
       "      <td>agent 78</td>\n",
       "      <td>type 3</td>\n",
       "      <td>description 123</td>\n",
       "      <td>-150.000000</td>\n",
       "    </tr>\n",
       "  </tbody>\n",
       "</table>\n",
       "</div>"
      ],
      "text/plain": [
       "    booking date value date     agent     type      description      amount\n",
       "12    2016-07-28 2016-07-30  agent 12  type 12   description 12  -95.208549\n",
       "105   2016-12-12 2016-12-12  agent 78   type 3  description 123 -150.000000"
      ]
     },
     "execution_count": 13,
     "metadata": {},
     "output_type": "execute_result"
    }
   ],
   "source": [
    "acc.find(description='DeScription 12')"
   ]
  },
  {
   "cell_type": "code",
   "execution_count": 14,
   "metadata": {
    "collapsed": false
   },
   "outputs": [
    {
     "data": {
      "text/html": [
       "<div>\n",
       "<table border=\"1\" class=\"dataframe\">\n",
       "  <thead>\n",
       "    <tr style=\"text-align: right;\">\n",
       "      <th></th>\n",
       "      <th>booking date</th>\n",
       "      <th>value date</th>\n",
       "      <th>agent</th>\n",
       "      <th>type</th>\n",
       "      <th>description</th>\n",
       "      <th>amount</th>\n",
       "    </tr>\n",
       "  </thead>\n",
       "  <tbody>\n",
       "  </tbody>\n",
       "</table>\n",
       "</div>"
      ],
      "text/plain": [
       "Empty DataFrame\n",
       "Columns: [booking date, value date, agent, type, description, amount]\n",
       "Index: []"
      ]
     },
     "execution_count": 14,
     "metadata": {},
     "output_type": "execute_result"
    }
   ],
   "source": [
    "acc.find(description='DeScription 12', case=True)"
   ]
  },
  {
   "cell_type": "markdown",
   "metadata": {},
   "source": [
    "You can also combine search across fields:"
   ]
  },
  {
   "cell_type": "code",
   "execution_count": 15,
   "metadata": {
    "collapsed": false
   },
   "outputs": [
    {
     "data": {
      "text/html": [
       "<div>\n",
       "<table border=\"1\" class=\"dataframe\">\n",
       "  <thead>\n",
       "    <tr style=\"text-align: right;\">\n",
       "      <th></th>\n",
       "      <th>booking date</th>\n",
       "      <th>value date</th>\n",
       "      <th>agent</th>\n",
       "      <th>type</th>\n",
       "      <th>description</th>\n",
       "      <th>amount</th>\n",
       "    </tr>\n",
       "  </thead>\n",
       "  <tbody>\n",
       "  </tbody>\n",
       "</table>\n",
       "</div>"
      ],
      "text/plain": [
       "Empty DataFrame\n",
       "Columns: [booking date, value date, agent, type, description, amount]\n",
       "Index: []"
      ]
     },
     "execution_count": 15,
     "metadata": {},
     "output_type": "execute_result"
    }
   ],
   "source": [
    "acc.find(description='12', amount=1500)"
   ]
  },
  {
   "cell_type": "markdown",
   "metadata": {},
   "source": [
    "## Visualising the transaction history\n",
    "You can plot three kinds of information. The balance of the account over time:"
   ]
  },
  {
   "cell_type": "code",
   "execution_count": 16,
   "metadata": {
    "collapsed": false
   },
   "outputs": [
    {
     "data": {
      "image/png": "[encoded data removed]",
      "text/plain": [
       "<matplotlib.figure.Figure at 0x7f57b729c898>"
      ]
     },
     "metadata": {},
     "output_type": "display_data"
    }
   ],
   "source": [
    "fig = acc.plot_history()"
   ]
  },
  {
   "cell_type": "markdown",
   "metadata": {},
   "source": [
    "individual transaction amounts over time:"
   ]
  },
  {
   "cell_type": "code",
   "execution_count": 17,
   "metadata": {
    "collapsed": false
   },
   "outputs": [
    {
     "data": {
      "image/png": "[encoded data removed]",
      "text/plain": [
       "<matplotlib.figure.Figure at 0x7f57b4d741d0>"
      ]
     },
     "metadata": {},
     "output_type": "display_data"
    }
   ],
   "source": [
    "fig = acc.plot_history(what='amount')"
   ]
  },
  {
   "cell_type": "markdown",
   "metadata": {},
   "source": [
    "or the cumulative sum of transaction amounts within a specified period (equals to balance when the time period includes all transactions):"
   ]
  },
  {
   "cell_type": "code",
   "execution_count": 18,
   "metadata": {
    "collapsed": false
   },
   "outputs": [
    {
     "data": {
      "image/png": "[encoded data removed]",
      "text/plain": [
       "<matplotlib.figure.Figure at 0x7f57b4880588>"
      ]
     },
     "metadata": {},
     "output_type": "display_data"
    }
   ],
   "source": [
    "fig = acc.plot_history(startdate='01.08.2016', enddate='23.09.2016', what='cumsum')"
   ]
  },
  {
   "cell_type": "code",
   "execution_count": null,
   "metadata": {
    "collapsed": true
   },
   "outputs": [],
   "source": []
  }
 ],
 "metadata": {
  "anaconda-cloud": {},
  "kernelspec": {
   "display_name": "Python [conda env:accounts]",
   "language": "python",
   "name": "conda-env-accounts-py"
  },
  "language_info": {
   "codemirror_mode": {
    "name": "ipython",
    "version": 3
   },
   "file_extension": ".py",
   "mimetype": "text/x-python",
   "name": "python",
   "nbconvert_exporter": "python",
   "pygments_lexer": "ipython3",
   "version": "3.5.2"
  }
 },
 "nbformat": 4,
 "nbformat_minor": 1
}
